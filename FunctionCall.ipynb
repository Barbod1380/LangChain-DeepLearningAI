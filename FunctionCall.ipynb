{
  "nbformat": 4,
  "nbformat_minor": 0,
  "metadata": {
    "colab": {
      "provenance": []
    },
    "kernelspec": {
      "name": "python3",
      "display_name": "Python 3"
    },
    "language_info": {
      "name": "python"
    }
  },
  "cells": [
    {
      "cell_type": "markdown",
      "source": [
        "# **Groq Function Calling**\n"
      ],
      "metadata": {
        "id": "as3ocv5jLivk"
      }
    },
    {
      "cell_type": "markdown",
      "source": [
        "First, we add our groq api key."
      ],
      "metadata": {
        "id": "ljDM2GHgc0CH"
      }
    },
    {
      "cell_type": "code",
      "source": [
        "import os\n",
        "\n",
        "os.environ['GROQ_API_KEY'] = \"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\""
      ],
      "metadata": {
        "id": "eepOdVsyLmXG"
      },
      "execution_count": 1,
      "outputs": []
    },
    {
      "cell_type": "code",
      "source": [
        "import json\n",
        "\n",
        "# Example dummy function hard coded to return the same weather\n",
        "# In production, this could be your backend API or an external API\n",
        "def get_current_weather(location, unit = \"fahrenheit\"):\n",
        "\n",
        "    \"\"\"\n",
        "        Get the current weather in a given location\n",
        "    \"\"\"\n",
        "\n",
        "    weather_info = {\n",
        "        \"location\": location,\n",
        "        \"temperature\": \"72\",\n",
        "        \"unit\": unit,\n",
        "        \"forecast\": [\"sunny\", \"windy\"],\n",
        "    }\n",
        "    return json.dumps(weather_info)"
      ],
      "metadata": {
        "id": "H8ukT3ashHov"
      },
      "execution_count": 8,
      "outputs": []
    },
    {
      "cell_type": "code",
      "source": [
        "# define a function\n",
        "functions = [\n",
        "    {\n",
        "        \"name\": \"get_current_weather\",\n",
        "        \"description\": \"Get the current weather in a given location\",\n",
        "        \"parameters\": {\n",
        "            \"type\": \"object\",\n",
        "            \"properties\": {\n",
        "                \"location\": {\n",
        "                    \"type\": \"string\",\n",
        "                    \"description\": \"The city and state, e.g. San Francisco, CA\",\n",
        "                },\n",
        "                \"unit\": {\"type\": \"string\", \"enum\": [\"celsius\", \"fahrenheit\"]},\n",
        "            },\n",
        "            \"required\": [\"location\"],\n",
        "        },\n",
        "    }\n",
        "]"
      ],
      "metadata": {
        "id": "rfhrj8-5hPlh"
      },
      "execution_count": 9,
      "outputs": []
    },
    {
      "cell_type": "code",
      "source": [
        "messages = [\n",
        "    {\n",
        "        \"role\": \"user\",\n",
        "        \"content\": \"What's the weather like in Boston?\"\n",
        "    }\n",
        "]"
      ],
      "metadata": {
        "id": "zGTveei1hSkk"
      },
      "execution_count": 10,
      "outputs": []
    },
    {
      "cell_type": "code",
      "source": [
        "# ! pip install groq"
      ],
      "metadata": {
        "id": "m-gRw1qydLny"
      },
      "execution_count": 3,
      "outputs": []
    },
    {
      "cell_type": "code",
      "source": [
        "from groq import Groq\n",
        "\n",
        "client = Groq()\n",
        "\n",
        "response = client.chat.completions.create(\n",
        "    model = \"llama3-70b-8192\",\n",
        "    messages = messages,\n",
        "    functions = functions\n",
        ")"
      ],
      "metadata": {
        "id": "eHzSwXYUdVYu"
      },
      "execution_count": 12,
      "outputs": []
    },
    {
      "cell_type": "code",
      "source": [
        "response"
      ],
      "metadata": {
        "colab": {
          "base_uri": "https://localhost:8080/"
        },
        "id": "fEKMenLpjmdZ",
        "outputId": "79ba593f-d332-4c7a-fb84-6bb03b6be83b"
      },
      "execution_count": 14,
      "outputs": [
        {
          "output_type": "execute_result",
          "data": {
            "text/plain": [
              "ChatCompletion(id='chatcmpl-b67222d5-e06b-4da5-bf0b-a427338bff2c', choices=[Choice(finish_reason='function_call', index=0, logprobs=None, message=ChatCompletionMessage(content=None, role='assistant', function_call=FunctionCall(arguments='{\"location\":\"Boston, MA\",\"unit\":\"fahrenheit\"}', name='get_current_weather'), tool_calls=None))], created=1719153361, model='llama3-70b-8192', object='chat.completion', system_fingerprint='fp_753a4aecf6', usage=CompletionUsage(completion_tokens=53, prompt_tokens=963, total_tokens=1016, completion_time=0.142293773, prompt_time=0.330221675, queue_time=None, total_time=0.472515448), x_groq={'id': 'req_01j12rd03neh3b8z6n7p7qjjx3'})"
            ]
          },
          "metadata": {},
          "execution_count": 14
        }
      ]
    },
    {
      "cell_type": "code",
      "source": [
        "response_message = response.choices[0].message"
      ],
      "metadata": {
        "id": "xdu5_Fdtjutt"
      },
      "execution_count": 25,
      "outputs": []
    },
    {
      "cell_type": "code",
      "source": [
        "response_message"
      ],
      "metadata": {
        "colab": {
          "base_uri": "https://localhost:8080/"
        },
        "id": "5rSRPnF5kZI3",
        "outputId": "34abadcf-6f9f-4589-8151-0de43596e647"
      },
      "execution_count": 26,
      "outputs": [
        {
          "output_type": "execute_result",
          "data": {
            "text/plain": [
              "ChatCompletionMessage(content=None, role='assistant', function_call=FunctionCall(arguments='{\"location\":\"Boston, MA\",\"unit\":\"fahrenheit\"}', name='get_current_weather'), tool_calls=None)"
            ]
          },
          "metadata": {},
          "execution_count": 26
        }
      ]
    },
    {
      "cell_type": "code",
      "source": [
        "## Null\n",
        "response_message.content"
      ],
      "metadata": {
        "id": "3CvQecrHnK6R"
      },
      "execution_count": 29,
      "outputs": []
    },
    {
      "cell_type": "code",
      "source": [
        "response_message.function_call"
      ],
      "metadata": {
        "colab": {
          "base_uri": "https://localhost:8080/"
        },
        "id": "FNcvt2dznNNB",
        "outputId": "bcedbb09-030e-4b03-d166-26c42d3085b9"
      },
      "execution_count": 31,
      "outputs": [
        {
          "output_type": "execute_result",
          "data": {
            "text/plain": [
              "FunctionCall(arguments='{\"location\":\"Boston, MA\",\"unit\":\"fahrenheit\"}', name='get_current_weather')"
            ]
          },
          "metadata": {},
          "execution_count": 31
        }
      ]
    },
    {
      "cell_type": "code",
      "source": [
        "print(json.loads(response_message.function_call.arguments))"
      ],
      "metadata": {
        "colab": {
          "base_uri": "https://localhost:8080/",
          "height": 53
        },
        "id": "aio7X46vnY3W",
        "outputId": "8b4bf8de-e69e-4005-fca4-02d75a02f3bb"
      },
      "execution_count": 37,
      "outputs": [
        {
          "output_type": "stream",
          "name": "stdout",
          "text": [
            "{'location': 'Boston, MA', 'unit': 'fahrenheit'}\n"
          ]
        },
        {
          "output_type": "execute_result",
          "data": {
            "text/plain": [
              "'{\"location\": {\"location\": \"Boston, MA\", \"unit\": \"fahrenheit\"}, \"temperature\": \"72\", \"unit\": \"fahrenheit\", \"forecast\": [\"sunny\", \"windy\"]}'"
            ],
            "application/vnd.google.colaboratory.intrinsic+json": {
              "type": "string"
            }
          },
          "metadata": {},
          "execution_count": 37
        }
      ]
    },
    {
      "cell_type": "code",
      "source": [
        "args = json.loads(response_message.function_call.arguments)\n",
        "get_current_weather(args)"
      ],
      "metadata": {
        "colab": {
          "base_uri": "https://localhost:8080/",
          "height": 35
        },
        "id": "_DhPuU37nxLa",
        "outputId": "b45d4dc0-3265-41f9-c12a-9cdfcc44895b"
      },
      "execution_count": 38,
      "outputs": [
        {
          "output_type": "execute_result",
          "data": {
            "text/plain": [
              "'{\"location\": {\"location\": \"Boston, MA\", \"unit\": \"fahrenheit\"}, \"temperature\": \"72\", \"unit\": \"fahrenheit\", \"forecast\": [\"sunny\", \"windy\"]}'"
            ],
            "application/vnd.google.colaboratory.intrinsic+json": {
              "type": "string"
            }
          },
          "metadata": {},
          "execution_count": 38
        }
      ]
    },
    {
      "cell_type": "code",
      "source": [
        "messages = [\n",
        "    {\n",
        "        \"role\": \"user\",\n",
        "        \"content\": \"hi, how are yoy dear!\",\n",
        "    }\n",
        "]"
      ],
      "metadata": {
        "id": "s5uSC_ekn2hc"
      },
      "execution_count": 46,
      "outputs": []
    },
    {
      "cell_type": "code",
      "source": [
        "response = client.chat.completions.create(\n",
        "    model = \"llama3-70b-8192\",\n",
        "    messages = messages,\n",
        "    functions = functions,\n",
        "    function_call = \"auto\"\n",
        ")\n",
        "\n",
        "response"
      ],
      "metadata": {
        "colab": {
          "base_uri": "https://localhost:8080/"
        },
        "id": "Y81L4rbFn4Nf",
        "outputId": "5c54f552-13af-4ad9-bbb7-2937a5828104"
      },
      "execution_count": 47,
      "outputs": [
        {
          "output_type": "execute_result",
          "data": {
            "text/plain": [
              "ChatCompletion(id='chatcmpl-6d24720e-e287-4590-b262-8d1c10a57079', choices=[Choice(finish_reason='stop', index=0, logprobs=None, message=ChatCompletionMessage(content=\"I'm doing well, thank you for asking! How about you?\", role='assistant', function_call=None, tool_calls=None))], created=1719155175, model='llama3-70b-8192', object='chat.completion', system_fingerprint='fp_2f30b0b571', usage=CompletionUsage(completion_tokens=15, prompt_tokens=963, total_tokens=978, completion_time=0.039125808, prompt_time=0.155179216, queue_time=None, total_time=0.194305024), x_groq={'id': 'req_01j12t4c6fedsaytjq7yxaq3pz'})"
            ]
          },
          "metadata": {},
          "execution_count": 47
        }
      ]
    },
    {
      "cell_type": "code",
      "source": [
        "response = client.chat.completions.create(\n",
        "    model = \"llama3-70b-8192\",\n",
        "    messages = messages,\n",
        "    functions = functions,\n",
        "    function_call = \"none\"\n",
        ")\n",
        "\n",
        "response"
      ],
      "metadata": {
        "colab": {
          "base_uri": "https://localhost:8080/"
        },
        "id": "5GaKlSZ-ocqg",
        "outputId": "3f558fa1-d379-4da0-ea8e-ae3012fd14e8"
      },
      "execution_count": 48,
      "outputs": [
        {
          "output_type": "execute_result",
          "data": {
            "text/plain": [
              "ChatCompletion(id='chatcmpl-95d326c5-44f8-4bbe-92fc-f20ed565437b', choices=[Choice(finish_reason='stop', index=0, logprobs=None, message=ChatCompletionMessage(content=\"I'm doing well, thanks! I'm here to help you with getting the current weather. Would you like to know the weather in a specific location?\", role='assistant', function_call=None, tool_calls=None))], created=1719155182, model='llama3-70b-8192', object='chat.completion', system_fingerprint='fp_2f30b0b571', usage=CompletionUsage(completion_tokens=32, prompt_tokens=196, total_tokens=228, completion_time=0.0861787, prompt_time=0.039658923, queue_time=None, total_time=0.125837623), x_groq={'id': 'req_01j12t4jmffxzt727xe8x856x5'})"
            ]
          },
          "metadata": {},
          "execution_count": 48
        }
      ]
    },
    {
      "cell_type": "code",
      "source": [
        "messages = [\n",
        "    {\n",
        "        \"role\": \"user\",\n",
        "        \"content\": \"What's the weather in Boston?\",\n",
        "    }\n",
        "]\n",
        "\n",
        "response = client.chat.completions.create(\n",
        "    model = \"llama3-70b-8192\",\n",
        "    messages = messages,\n",
        "    functions = functions,\n",
        "    function_call = \"none\",\n",
        ")\n",
        "\n",
        "response"
      ],
      "metadata": {
        "colab": {
          "base_uri": "https://localhost:8080/"
        },
        "id": "ZDog2Qc_oqfi",
        "outputId": "a84335cc-5a63-40e4-9797-20982e30cc84"
      },
      "execution_count": 52,
      "outputs": [
        {
          "output_type": "execute_result",
          "data": {
            "text/plain": [
              "ChatCompletion(id='chatcmpl-f25fc786-2202-4412-a6f7-65d317c6e8cc', choices=[Choice(finish_reason='stop', index=0, logprobs=None, message=ChatCompletionMessage(content='I can help you with that! The \"get_current_weather\" function can provide you with the current weather in Boston. To do this, I would need to call this function with the \"location\" parameter set to \"Boston\" and the \"unit\" parameter set to either \"celsius\" or \"fahrenheit\" depending on your preference.\\n\\nLet\\'s say we\\'ll use Fahrenheit for this example. Here\\'s what the function call would look like:\\n\\n```\\nget_current_weather({\"location\": \"Boston\", \"unit\": \"fahrenheit\"})\\n```\\n\\nIf this function were implemented, it would return the current weather in Boston in Fahrenheit. Unfortunately, as this is just a sample data, I don\\'t have the actual weather data to provide. But you can imagine it would return something like:\\n\\n\"The current weather in Boston is partly cloudy with a temperature of 48°F.\"\\n\\nPlease note that this is just a simulation and the actual output would depend on the implementation of the \"get_current_weather\" function.', role='assistant', function_call=None, tool_calls=None))], created=1719155268, model='llama3-70b-8192', object='chat.completion', system_fingerprint='fp_753a4aecf6', usage=CompletionUsage(completion_tokens=201, prompt_tokens=195, total_tokens=396, completion_time=0.544802426, prompt_time=0.035550275, queue_time=None, total_time=0.5803527009999999), x_groq={'id': 'req_01j12t75tkem38ac0ar5psht6k'})"
            ]
          },
          "metadata": {},
          "execution_count": 52
        }
      ]
    },
    {
      "cell_type": "code",
      "source": [
        "messages = [\n",
        "    {\n",
        "        \"role\": \"user\",\n",
        "        \"content\": \"hi!\",\n",
        "    }\n",
        "]\n",
        "\n",
        "response = client.chat.completions.create(\n",
        "    model = \"llama3-70b-8192\",\n",
        "    messages = messages,\n",
        "    functions = functions,\n",
        "    function_call = {\"name\": \"get_current_weather\"},\n",
        ")\n",
        "\n",
        "response"
      ],
      "metadata": {
        "colab": {
          "base_uri": "https://localhost:8080/"
        },
        "id": "mGSgYPogpMyY",
        "outputId": "247e8b8d-d986-432c-f2a2-6a5cd876f80b"
      },
      "execution_count": 55,
      "outputs": [
        {
          "output_type": "execute_result",
          "data": {
            "text/plain": [
              "ChatCompletion(id='chatcmpl-52c804a3-2e39-4355-8b6c-5d38881806ea', choices=[Choice(finish_reason='function_call', index=0, logprobs=None, message=ChatCompletionMessage(content=None, role='assistant', function_call=FunctionCall(arguments='{\"location\":\"San Francisco, CA\",\"unit\":\"celsius\"}', name='get_current_weather'), tool_calls=None))], created=1719155392, model='llama3-70b-8192', object='chat.completion', system_fingerprint='fp_c1a4bcec29', usage=CompletionUsage(completion_tokens=42, prompt_tokens=907, total_tokens=949, completion_time=0.113533061, prompt_time=0.276665181, queue_time=None, total_time=0.390198242), x_groq={'id': 'req_01j12tayz0excrynkh9dgka27g'})"
            ]
          },
          "metadata": {},
          "execution_count": 55
        }
      ]
    },
    {
      "cell_type": "markdown",
      "source": [
        "We can give the output to another LLM and get more natural language results."
      ],
      "metadata": {
        "id": "YcNi3tSzpgBc"
      }
    },
    {
      "cell_type": "code",
      "source": [
        "messages = [\n",
        "    {\n",
        "        \"role\": \"user\",\n",
        "        \"content\": \"What's the weather like in Boston!\",\n",
        "    }\n",
        "]\n",
        "response = client.chat.completions.create(\n",
        "    model = \"llama3-70b-8192\",\n",
        "    messages = messages,\n",
        "    functions = functions,\n",
        "    function_call = {\"name\": \"get_current_weather\"},\n",
        ")\n",
        "\n",
        "response"
      ],
      "metadata": {
        "colab": {
          "base_uri": "https://localhost:8080/"
        },
        "id": "pUTTDdenvwdk",
        "outputId": "563f240f-1d46-4522-c55f-27789ea1931f"
      },
      "execution_count": 56,
      "outputs": [
        {
          "output_type": "execute_result",
          "data": {
            "text/plain": [
              "ChatCompletion(id='chatcmpl-c0106996-8df9-426e-87a6-a0e848486222', choices=[Choice(finish_reason='function_call', index=0, logprobs=None, message=ChatCompletionMessage(content=None, role='assistant', function_call=FunctionCall(arguments='{\"location\":\"Boston, MA\",\"unit\":\"fahrenheit\"}', name='get_current_weather'), tool_calls=None))], created=1719157127, model='llama3-70b-8192', object='chat.completion', system_fingerprint='fp_753a4aecf6', usage=CompletionUsage(completion_tokens=53, prompt_tokens=866, total_tokens=919, completion_time=0.142970328, prompt_time=0.165531411, queue_time=None, total_time=0.308501739), x_groq={'id': 'req_01j12vzxf4fb5vftmzn4rt92pa'})"
            ]
          },
          "metadata": {},
          "execution_count": 56
        }
      ]
    },
    {
      "cell_type": "code",
      "source": [
        "messages.append(response.choices[0].message)"
      ],
      "metadata": {
        "id": "wFLSrJpbwCdn"
      },
      "execution_count": 58,
      "outputs": []
    },
    {
      "cell_type": "code",
      "source": [
        "messages"
      ],
      "metadata": {
        "colab": {
          "base_uri": "https://localhost:8080/"
        },
        "id": "jls0ii7lwLQj",
        "outputId": "45de14a3-f609-48e1-c232-d79c0cae8676"
      },
      "execution_count": 59,
      "outputs": [
        {
          "output_type": "execute_result",
          "data": {
            "text/plain": [
              "[{'role': 'user', 'content': \"What's the weather like in Boston!\"},\n",
              " ChatCompletionMessage(content=None, role='assistant', function_call=FunctionCall(arguments='{\"location\":\"Boston, MA\",\"unit\":\"fahrenheit\"}', name='get_current_weather'), tool_calls=None)]"
            ]
          },
          "metadata": {},
          "execution_count": 59
        }
      ]
    },
    {
      "cell_type": "code",
      "source": [
        "args = json.loads(response.choices[0].message.function_call.arguments)\n",
        "observation = get_current_weather(args)"
      ],
      "metadata": {
        "id": "WsVr0MbGwRh2"
      },
      "execution_count": 60,
      "outputs": []
    },
    {
      "cell_type": "code",
      "source": [
        "messages.append(\n",
        "        {\n",
        "            \"role\": \"function\",\n",
        "            \"name\": \"get_current_weather\",\n",
        "            \"content\": observation,\n",
        "        }\n",
        ")"
      ],
      "metadata": {
        "id": "42dCWgSYwcfU"
      },
      "execution_count": 61,
      "outputs": []
    },
    {
      "cell_type": "code",
      "source": [
        "messages"
      ],
      "metadata": {
        "colab": {
          "base_uri": "https://localhost:8080/"
        },
        "id": "dfs8J6Ftww__",
        "outputId": "2e3abc89-0095-451f-e86e-229f9d8f9117"
      },
      "execution_count": 65,
      "outputs": [
        {
          "output_type": "execute_result",
          "data": {
            "text/plain": [
              "[{'role': 'user', 'content': \"What's the weather like in Boston!\"},\n",
              " ChatCompletionMessage(content=None, role='assistant', function_call=FunctionCall(arguments='{\"location\":\"Boston, MA\",\"unit\":\"fahrenheit\"}', name='get_current_weather'), tool_calls=None),\n",
              " {'role': 'function',\n",
              "  'name': 'get_current_weather',\n",
              "  'content': '{\"location\": {\"location\": \"Boston, MA\", \"unit\": \"fahrenheit\"}, \"temperature\": \"72\", \"unit\": \"fahrenheit\", \"forecast\": [\"sunny\", \"windy\"]}'}]"
            ]
          },
          "metadata": {},
          "execution_count": 65
        }
      ]
    },
    {
      "cell_type": "code",
      "source": [
        "response = client.chat.completions.create(\n",
        "    model = \"llama3-70b-8192\",\n",
        "    messages = messages,\n",
        ")\n",
        "\n",
        "response"
      ],
      "metadata": {
        "colab": {
          "base_uri": "https://localhost:8080/"
        },
        "id": "lANNnHfjwfQx",
        "outputId": "30ee9938-cc73-43d3-fa7a-4956abe57870"
      },
      "execution_count": 64,
      "outputs": [
        {
          "output_type": "execute_result",
          "data": {
            "text/plain": [
              "ChatCompletion(id='chatcmpl-2f67ecbd-c854-4478-aac3-1220827bb649', choices=[Choice(finish_reason='stop', index=0, logprobs=None, message=ChatCompletionMessage(content=\"According to the current weather report, it's a lovely day in Boston, MA! The temperature is a pleasant 72°F, with sunny and windy conditions. Perfect weather to get out and enjoy the city!\", role='assistant', function_call=None, tool_calls=None))], created=1719157321, model='llama3-70b-8192', object='chat.completion', system_fingerprint='fp_753a4aecf6', usage=CompletionUsage(completion_tokens=43, prompt_tokens=113, total_tokens=156, completion_time=0.114523, prompt_time=0.021557996, queue_time=None, total_time=0.136080996), x_groq={'id': 'req_01j12w5v5cfzhvtjww84kn43r6'})"
            ]
          },
          "metadata": {},
          "execution_count": 64
        }
      ]
    }
  ]
}