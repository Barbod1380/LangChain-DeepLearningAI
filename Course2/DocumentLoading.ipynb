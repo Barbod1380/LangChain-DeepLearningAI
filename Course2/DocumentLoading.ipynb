{
  "cells": [
    {
      "cell_type": "markdown",
      "source": [
        "# **Document Loading**"
      ],
      "metadata": {
        "id": "zNOvjdJ4cYB_"
      }
    },
    {
      "cell_type": "markdown",
      "source": [
        "## **Retrieval augmented generation**\n",
        "\n",
        "In retrieval augmented generation (RAG), an LLM retrieves contextual documents from an external dataset as part of its execution.\n",
        "\n",
        "This is useful if we want to ask question about specific documents (e.g., our PDFs, a set of videos, etc)."
      ],
      "metadata": {
        "id": "7_6SdeqvccTt"
      }
    },
    {
      "cell_type": "code",
      "source": [
        "! pip install langchain langchain_groq langchain_community openai"
      ],
      "metadata": {
        "colab": {
          "base_uri": "https://localhost:8080/"
        },
        "collapsed": true,
        "id": "mxsa7u6uckyE",
        "outputId": "1481e116-e93e-4891-d137-76222bf22f99"
      },
      "execution_count": null,
      "outputs": [
        {
          "output_type": "stream",
          "name": "stdout",
          "text": [
            "Requirement already satisfied: langchain in /usr/local/lib/python3.10/dist-packages (0.2.1)\n",
            "Requirement already satisfied: langchain_groq in /usr/local/lib/python3.10/dist-packages (0.1.4)\n",
            "Requirement already satisfied: langchain_community in /usr/local/lib/python3.10/dist-packages (0.2.1)\n",
            "Collecting openai\n",
            "  Downloading openai-1.30.4-py3-none-any.whl (320 kB)\n",
            "\u001b[2K     \u001b[90m━━━━━━━━━━━━━━━━━━━━━━━━━━━━━━━━━━━━━━━━\u001b[0m \u001b[32m320.6/320.6 kB\u001b[0m \u001b[31m7.8 MB/s\u001b[0m eta \u001b[36m0:00:00\u001b[0m\n",
            "\u001b[?25hRequirement already satisfied: PyYAML>=5.3 in /usr/local/lib/python3.10/dist-packages (from langchain) (6.0.1)\n",
            "Requirement already satisfied: SQLAlchemy<3,>=1.4 in /usr/local/lib/python3.10/dist-packages (from langchain) (2.0.30)\n",
            "Requirement already satisfied: aiohttp<4.0.0,>=3.8.3 in /usr/local/lib/python3.10/dist-packages (from langchain) (3.9.5)\n",
            "Requirement already satisfied: async-timeout<5.0.0,>=4.0.0 in /usr/local/lib/python3.10/dist-packages (from langchain) (4.0.3)\n",
            "Requirement already satisfied: langchain-core<0.3.0,>=0.2.0 in /usr/local/lib/python3.10/dist-packages (from langchain) (0.2.1)\n",
            "Requirement already satisfied: langchain-text-splitters<0.3.0,>=0.2.0 in /usr/local/lib/python3.10/dist-packages (from langchain) (0.2.0)\n",
            "Requirement already satisfied: langsmith<0.2.0,>=0.1.17 in /usr/local/lib/python3.10/dist-packages (from langchain) (0.1.63)\n",
            "Requirement already satisfied: numpy<2,>=1 in /usr/local/lib/python3.10/dist-packages (from langchain) (1.25.2)\n",
            "Requirement already satisfied: pydantic<3,>=1 in /usr/local/lib/python3.10/dist-packages (from langchain) (2.7.1)\n",
            "Requirement already satisfied: requests<3,>=2 in /usr/local/lib/python3.10/dist-packages (from langchain) (2.31.0)\n",
            "Requirement already satisfied: tenacity<9.0.0,>=8.1.0 in /usr/local/lib/python3.10/dist-packages (from langchain) (8.3.0)\n",
            "Requirement already satisfied: groq<1,>=0.4.1 in /usr/local/lib/python3.10/dist-packages (from langchain_groq) (0.8.0)\n",
            "Requirement already satisfied: dataclasses-json<0.7,>=0.5.7 in /usr/local/lib/python3.10/dist-packages (from langchain_community) (0.6.6)\n",
            "Requirement already satisfied: anyio<5,>=3.5.0 in /usr/local/lib/python3.10/dist-packages (from openai) (3.7.1)\n",
            "Requirement already satisfied: distro<2,>=1.7.0 in /usr/lib/python3/dist-packages (from openai) (1.7.0)\n",
            "Requirement already satisfied: httpx<1,>=0.23.0 in /usr/local/lib/python3.10/dist-packages (from openai) (0.27.0)\n",
            "Requirement already satisfied: sniffio in /usr/local/lib/python3.10/dist-packages (from openai) (1.3.1)\n",
            "Requirement already satisfied: tqdm>4 in /usr/local/lib/python3.10/dist-packages (from openai) (4.66.4)\n",
            "Requirement already satisfied: typing-extensions<5,>=4.7 in /usr/local/lib/python3.10/dist-packages (from openai) (4.11.0)\n",
            "Requirement already satisfied: aiosignal>=1.1.2 in /usr/local/lib/python3.10/dist-packages (from aiohttp<4.0.0,>=3.8.3->langchain) (1.3.1)\n",
            "Requirement already satisfied: attrs>=17.3.0 in /usr/local/lib/python3.10/dist-packages (from aiohttp<4.0.0,>=3.8.3->langchain) (23.2.0)\n",
            "Requirement already satisfied: frozenlist>=1.1.1 in /usr/local/lib/python3.10/dist-packages (from aiohttp<4.0.0,>=3.8.3->langchain) (1.4.1)\n",
            "Requirement already satisfied: multidict<7.0,>=4.5 in /usr/local/lib/python3.10/dist-packages (from aiohttp<4.0.0,>=3.8.3->langchain) (6.0.5)\n",
            "Requirement already satisfied: yarl<2.0,>=1.0 in /usr/local/lib/python3.10/dist-packages (from aiohttp<4.0.0,>=3.8.3->langchain) (1.9.4)\n",
            "Requirement already satisfied: idna>=2.8 in /usr/local/lib/python3.10/dist-packages (from anyio<5,>=3.5.0->openai) (3.7)\n",
            "Requirement already satisfied: exceptiongroup in /usr/local/lib/python3.10/dist-packages (from anyio<5,>=3.5.0->openai) (1.2.1)\n",
            "Requirement already satisfied: marshmallow<4.0.0,>=3.18.0 in /usr/local/lib/python3.10/dist-packages (from dataclasses-json<0.7,>=0.5.7->langchain_community) (3.21.2)\n",
            "Requirement already satisfied: typing-inspect<1,>=0.4.0 in /usr/local/lib/python3.10/dist-packages (from dataclasses-json<0.7,>=0.5.7->langchain_community) (0.9.0)\n",
            "Requirement already satisfied: certifi in /usr/local/lib/python3.10/dist-packages (from httpx<1,>=0.23.0->openai) (2024.2.2)\n",
            "Requirement already satisfied: httpcore==1.* in /usr/local/lib/python3.10/dist-packages (from httpx<1,>=0.23.0->openai) (1.0.5)\n",
            "Requirement already satisfied: h11<0.15,>=0.13 in /usr/local/lib/python3.10/dist-packages (from httpcore==1.*->httpx<1,>=0.23.0->openai) (0.14.0)\n",
            "Requirement already satisfied: jsonpatch<2.0,>=1.33 in /usr/local/lib/python3.10/dist-packages (from langchain-core<0.3.0,>=0.2.0->langchain) (1.33)\n",
            "Requirement already satisfied: packaging<24.0,>=23.2 in /usr/local/lib/python3.10/dist-packages (from langchain-core<0.3.0,>=0.2.0->langchain) (23.2)\n",
            "Requirement already satisfied: orjson<4.0.0,>=3.9.14 in /usr/local/lib/python3.10/dist-packages (from langsmith<0.2.0,>=0.1.17->langchain) (3.10.3)\n",
            "Requirement already satisfied: annotated-types>=0.4.0 in /usr/local/lib/python3.10/dist-packages (from pydantic<3,>=1->langchain) (0.7.0)\n",
            "Requirement already satisfied: pydantic-core==2.18.2 in /usr/local/lib/python3.10/dist-packages (from pydantic<3,>=1->langchain) (2.18.2)\n",
            "Requirement already satisfied: charset-normalizer<4,>=2 in /usr/local/lib/python3.10/dist-packages (from requests<3,>=2->langchain) (3.3.2)\n",
            "Requirement already satisfied: urllib3<3,>=1.21.1 in /usr/local/lib/python3.10/dist-packages (from requests<3,>=2->langchain) (2.0.7)\n",
            "Requirement already satisfied: greenlet!=0.4.17 in /usr/local/lib/python3.10/dist-packages (from SQLAlchemy<3,>=1.4->langchain) (3.0.3)\n",
            "Requirement already satisfied: jsonpointer>=1.9 in /usr/local/lib/python3.10/dist-packages (from jsonpatch<2.0,>=1.33->langchain-core<0.3.0,>=0.2.0->langchain) (2.4)\n",
            "Requirement already satisfied: mypy-extensions>=0.3.0 in /usr/local/lib/python3.10/dist-packages (from typing-inspect<1,>=0.4.0->dataclasses-json<0.7,>=0.5.7->langchain_community) (1.0.0)\n",
            "Installing collected packages: openai\n",
            "Successfully installed openai-1.30.4\n"
          ]
        }
      ]
    },
    {
      "cell_type": "code",
      "source": [
        "import os\n",
        "\n",
        "os.environ[\"GROQ_API_KEY\"] = \"YOUR-API-KEY\"\n",
        "os.environ[\"OPENAI_API_KEY\"] = \"YOUR-API-KEY\""
      ],
      "metadata": {
        "id": "TVe0p2cDdzj5"
      },
      "execution_count": null,
      "outputs": []
    },
    {
      "cell_type": "markdown",
      "source": [
        "## **PDFs**\n",
        "\n",
        "Let's load a PDF [transcript](https://see.stanford.edu/materials/aimlcs229/transcripts/MachineLearning-Lecture01.pdf) from Andrew Ng's famous CS229 course! These documents are the result of automated transcription so words and sentences are sometimes split unexpectedly."
      ],
      "metadata": {
        "id": "8S8_jHpLeVtm"
      }
    },
    {
      "cell_type": "code",
      "source": [
        "! pip install pypdf"
      ],
      "metadata": {
        "colab": {
          "base_uri": "https://localhost:8080/"
        },
        "collapsed": true,
        "id": "3a3pVikTeXoE",
        "outputId": "b5d2fff6-ed04-4029-b021-1b440bd4b219"
      },
      "execution_count": null,
      "outputs": [
        {
          "output_type": "stream",
          "name": "stdout",
          "text": [
            "Requirement already satisfied: pypdf in /usr/local/lib/python3.10/dist-packages (4.2.0)\n",
            "Requirement already satisfied: typing_extensions>=4.0 in /usr/local/lib/python3.10/dist-packages (from pypdf) (4.11.0)\n"
          ]
        }
      ]
    },
    {
      "cell_type": "code",
      "source": [
        "from langchain.document_loaders import PyPDFLoader\n",
        "\n",
        "loader = PyPDFLoader('MachineLearning-Lecture01.pdf')\n",
        "pages = loader.load()"
      ],
      "metadata": {
        "id": "V6pWjzTPhAOR"
      },
      "execution_count": null,
      "outputs": []
    },
    {
      "cell_type": "markdown",
      "source": [
        "Each page is a `Document`.\n",
        "\n",
        "A `Document` contains text (`page_content`) and `metadata`."
      ],
      "metadata": {
        "id": "DsnIUE_5hete"
      }
    },
    {
      "cell_type": "code",
      "source": [
        "len(pages)"
      ],
      "metadata": {
        "colab": {
          "base_uri": "https://localhost:8080/"
        },
        "id": "omipsAN3hfQx",
        "outputId": "1685fd15-8edd-49bc-86ba-04e1e3e0f16a"
      },
      "execution_count": null,
      "outputs": [
        {
          "output_type": "execute_result",
          "data": {
            "text/plain": [
              "22"
            ]
          },
          "metadata": {},
          "execution_count": 5
        }
      ]
    },
    {
      "cell_type": "markdown",
      "source": [
        "Which is because our document was $22$ pages long."
      ],
      "metadata": {
        "id": "xivvHijMhqoy"
      }
    },
    {
      "cell_type": "code",
      "source": [
        "from IPython.display import display, Markdown\n",
        "\n",
        "page = pages[0]\n",
        "display(Markdown(page.page_content))"
      ],
      "metadata": {
        "colab": {
          "base_uri": "https://localhost:8080/",
          "height": 498
        },
        "id": "xt6BBF9phvKq",
        "outputId": "fc56c240-712c-4a60-9dba-3b5de087f98c"
      },
      "execution_count": null,
      "outputs": [
        {
          "output_type": "display_data",
          "data": {
            "text/plain": [
              "<IPython.core.display.Markdown object>"
            ],
            "text/markdown": "MachineLearning-Lecture01  \nInstructor (Andrew Ng):  Okay. Good morning. Welcome to CS229, the machine \nlearning class. So what I wanna do today is ju st spend a little time going over the logistics \nof the class, and then we'll start to  talk a bit about machine learning.  \nBy way of introduction, my name's  Andrew Ng and I'll be instru ctor for this class. And so \nI personally work in machine learning, and I' ve worked on it for about 15 years now, and \nI actually think that machine learning is th e most exciting field of all the computer \nsciences. So I'm actually always excited about  teaching this class. Sometimes I actually \nthink that machine learning is not only the most exciting thin g in computer science, but \nthe most exciting thing in all of human e ndeavor, so maybe a little bias there.  \nI also want to introduce the TAs, who are all graduate students doing research in or \nrelated to the machine learni ng and all aspects of machin e learning. Paul Baumstarck \nworks in machine learning and computer vision.  Catie Chang is actually a neuroscientist \nwho applies machine learning algorithms to try to understand the human brain. Tom Do \nis another PhD student, works in computa tional biology and in sort of the basic \nfundamentals of human learning. Zico Kolter is  the head TA — he's head TA two years \nin a row now — works in machine learning a nd applies them to a bunch of robots. And \nDaniel Ramage is — I guess he's not here  — Daniel applies l earning algorithms to \nproblems in natural language processing.  \nSo you'll get to know the TAs and me much be tter throughout this quarter, but just from \nthe sorts of things the TA's do, I hope you can  already tell that machine learning is a \nhighly interdisciplinary topic in which just the TAs find l earning algorithms to problems \nin computer vision and biology and robots a nd language. And machine learning is one of \nthose things that has and is having a large impact on many applications.  \nSo just in my own daily work, I actually frequently end up talking to people like \nhelicopter pilots to biologists to people in  computer systems or databases to economists \nand sort of also an unending stream of  people from industry coming to Stanford \ninterested in applying machine learni ng methods to their own problems.  \nSo yeah, this is fun. A couple of weeks ago, a student actually forwar ded to me an article \nin \"Computer World\" about the 12 IT skills th at employers can't say no to. So it's about \nsort of the 12 most desirabl e skills in all of IT and all of information technology, and \ntopping the list was actually machine lear ning. So I think this is a good time to be \nlearning this stuff and learning algorithms and having a large impact on many segments \nof science and industry.  \nI'm actually curious about something. Learni ng algorithms is one of the things that \ntouches many areas of science and industrie s, and I'm just kind of curious. How many \npeople here are computer science majors, are in the computer science department? Okay. \nAbout half of you. How many people are from  EE? Oh, okay, maybe about a fifth. How "
          },
          "metadata": {}
        }
      ]
    },
    {
      "cell_type": "code",
      "source": [
        "page.metadata"
      ],
      "metadata": {
        "colab": {
          "base_uri": "https://localhost:8080/"
        },
        "id": "SDTB5vl2iU3n",
        "outputId": "868bbec2-25ec-49d8-dd57-a2d50e8e1fdc"
      },
      "execution_count": null,
      "outputs": [
        {
          "output_type": "execute_result",
          "data": {
            "text/plain": [
              "{'source': 'MachineLearning-Lecture01.pdf', 'page': 0}"
            ]
          },
          "metadata": {},
          "execution_count": 7
        }
      ]
    },
    {
      "cell_type": "markdown",
      "source": [
        "## **YouTube**\n",
        "\n",
        "The next platform that we are going to consider is the **YouTube**.\n"
      ],
      "metadata": {
        "id": "Hb06Or9aicbv"
      }
    },
    {
      "cell_type": "code",
      "source": [
        "from langchain.document_loaders.generic import GenericLoader\n",
        "from langchain.document_loaders.parsers import OpenAIWhisperParser\n",
        "from langchain.document_loaders.blob_loaders.youtube_audio import YoutubeAudioLoader"
      ],
      "metadata": {
        "id": "noGnHcYhiv9H"
      },
      "execution_count": null,
      "outputs": []
    },
    {
      "cell_type": "code",
      "source": [
        "! pip install yt_dlp\n",
        "! pip install pydub"
      ],
      "metadata": {
        "colab": {
          "base_uri": "https://localhost:8080/"
        },
        "collapsed": true,
        "id": "j9Qfxtq-jOH2",
        "outputId": "5d9ce98a-348a-4c01-dfef-69bb9250daca"
      },
      "execution_count": null,
      "outputs": [
        {
          "output_type": "stream",
          "name": "stdout",
          "text": [
            "Requirement already satisfied: yt_dlp in /usr/local/lib/python3.10/dist-packages (2024.5.27)\n",
            "Requirement already satisfied: brotli in /usr/local/lib/python3.10/dist-packages (from yt_dlp) (1.1.0)\n",
            "Requirement already satisfied: certifi in /usr/local/lib/python3.10/dist-packages (from yt_dlp) (2024.2.2)\n",
            "Requirement already satisfied: mutagen in /usr/local/lib/python3.10/dist-packages (from yt_dlp) (1.47.0)\n",
            "Requirement already satisfied: pycryptodomex in /usr/local/lib/python3.10/dist-packages (from yt_dlp) (3.20.0)\n",
            "Requirement already satisfied: requests<3,>=2.31.0 in /usr/local/lib/python3.10/dist-packages (from yt_dlp) (2.31.0)\n",
            "Requirement already satisfied: urllib3<3,>=1.26.17 in /usr/local/lib/python3.10/dist-packages (from yt_dlp) (2.0.7)\n",
            "Requirement already satisfied: websockets>=12.0 in /usr/local/lib/python3.10/dist-packages (from yt_dlp) (12.0)\n",
            "Requirement already satisfied: charset-normalizer<4,>=2 in /usr/local/lib/python3.10/dist-packages (from requests<3,>=2.31.0->yt_dlp) (3.3.2)\n",
            "Requirement already satisfied: idna<4,>=2.5 in /usr/local/lib/python3.10/dist-packages (from requests<3,>=2.31.0->yt_dlp) (3.7)\n",
            "Requirement already satisfied: pydub in /usr/local/lib/python3.10/dist-packages (0.25.1)\n"
          ]
        }
      ]
    },
    {
      "cell_type": "markdown",
      "source": [
        "**Note**: This can take several minutes to complete."
      ],
      "metadata": {
        "id": "TbdpAak0jZTG"
      }
    },
    {
      "cell_type": "code",
      "source": [
        "url = \"https://www.youtube.com/watch?v=jGwO_UgTS7I\"\n",
        "save_dir = \".\"\n",
        "\n",
        "loader = GenericLoader(\n",
        "    YoutubeAudioLoader([url], save_dir),\n",
        "    OpenAIWhisperParser()\n",
        ")"
      ],
      "metadata": {
        "id": "eSg2TJW7je5L"
      },
      "execution_count": null,
      "outputs": []
    },
    {
      "cell_type": "code",
      "source": [
        "docs = loader.load()"
      ],
      "metadata": {
        "colab": {
          "base_uri": "https://localhost:8080/"
        },
        "id": "BLEf3ezIkBLR",
        "outputId": "0d9f3531-4e32-4782-b00d-e27d40a6e532"
      },
      "execution_count": null,
      "outputs": [
        {
          "output_type": "stream",
          "name": "stdout",
          "text": [
            "[youtube] Extracting URL: https://www.youtube.com/watch?v=jGwO_UgTS7I\n",
            "[youtube] jGwO_UgTS7I: Downloading webpage\n",
            "[youtube] jGwO_UgTS7I: Downloading ios player API JSON\n",
            "[youtube] jGwO_UgTS7I: Downloading player b9ad8b0a\n",
            "[youtube] jGwO_UgTS7I: Downloading m3u8 information\n",
            "[info] jGwO_UgTS7I: Downloading 1 format(s): 140\n",
            "[download] ./Stanford CS229： Machine Learning Course, Lecture 1 - Andrew Ng (Autumn 2018).m4a has already been downloaded\n",
            "[download] 100% of   69.71MiB\n",
            "[ExtractAudio] Not converting audio ./Stanford CS229： Machine Learning Course, Lecture 1 - Andrew Ng (Autumn 2018).m4a; file is already in target format m4a\n",
            "Transcribing part 1!\n",
            "Transcribing part 2!\n",
            "Transcribing part 3!\n",
            "Transcribing part 4!\n"
          ]
        }
      ]
    },
    {
      "cell_type": "code",
      "source": [
        "# The video has 4 parts:\n",
        "len(docs)"
      ],
      "metadata": {
        "colab": {
          "base_uri": "https://localhost:8080/"
        },
        "id": "P85iIJrAnMna",
        "outputId": "99f83fd5-c89a-4e57-9726-48745f3a9fbf"
      },
      "execution_count": null,
      "outputs": [
        {
          "output_type": "execute_result",
          "data": {
            "text/plain": [
              "4"
            ]
          },
          "metadata": {},
          "execution_count": 17
        }
      ]
    },
    {
      "cell_type": "code",
      "source": [
        "display(Markdown(docs[0].page_content))"
      ],
      "metadata": {
        "colab": {
          "base_uri": "https://localhost:8080/",
          "height": 1000
        },
        "id": "UV2FfypDnURM",
        "outputId": "37c99766-a12c-49c3-9979-3adf6bc24a07"
      },
      "execution_count": null,
      "outputs": [
        {
          "output_type": "display_data",
          "data": {
            "text/plain": [
              "<IPython.core.display.Markdown object>"
            ],
            "text/markdown": "Welcome to CS229 Machine Learning. Uh, some of you know that this is a class that's taught at Stanford for a long time. And this is often the class that, um, I most look forward to teaching each year because this is where we've helped, I think, several generations of Stanford students become experts in machine learning, got- built many of their products and services and startups that I'm sure, many of you or probably all of you are using, uh, uh, today. Um, so what I want to do today was spend some time talking over, uh, logistics and then, uh, spend some time, you know, giving you a beginning of an intro, talk a little bit about machine learning. So about 229, um, you know, all of you have been reading about AI in the news, uh, about machine learning in the news. Um, and you've probably heard me or others say AI is the new electricity. Uh, much as the rise of electricity about 100 years ago transformed every major industry. I think AI or really we call it machine learning, but the rest of the world seems to call it AI. You know, um, machine learning and, and AI and deep learning will change the world. And I hope that through 229, uh, will give you the tools you need so that you can be many of these future titans of industries, that you can be one to go out and build, you know, help the large tech companies do the amazing things they do, or build your own startup, or go into some other industry, go, go transform healthcare, or go transform transportation, or go build a self-driving car, um, and do all of these things that, um, after this class, I think you'll be able to do. You know, um, the majority of students applying, the, the demand for AI skills, the demand for machine learning skills is so vast. I think you all know that. Uh, and I think it's because machine learning has advanced so rapidly in the last few years that there are so many opportunities, um, to apply learning algorithms, right? Both in industry as well as in academia. I think today, we have, um, the English department professors trying to apply learning algorithms to understand history better. Uh, we have lawyers trying to apply machine learning to process legal documents. Uh, and off-campus, every company, both the tech companies as well as a lot of, a lot of companies that you wouldn't consider tech companies. Everything from manufacturing companies, to healthcare companies, to logistics companies are also trying to apply machine learning. So I think that, um, uh, uh, if you look at it on a, on a factual basis, the number of people doing very valuable machine learning projects today, is much greater than it was six months ago. And six months ago, it was much greater than it was 12 months ago. And the amount of value, the amount of exciting and meaningful work being done in machine learning is, is, is very strongly going up. Um, and I think that given the rise of, you know, the, the, the amount of data we have, as well as the new machine learning tools that we have, um, it will be a long time before we run out of opportunities, you know, before, before society as a whole has enough people with a machine learning skill set. Um, so just as maybe, I don't know, 20 years ago was a good time to start working on this Internet thing. And a lot of people that started working on the Internet, like 20 years ago, had fantastic careers. I think today is a wonderful time to jump to machine learning, uh, and, and, and the number of, and the opportunities for you to do unique things that no one is, no one else is doing, right? The opportunity for you to go to a logistics company and find an exciting way to apply machine learning, uh, will be very high because chances are that logistics company has no one else even working on this because, you know, they probably can't, they, they may not be able to hire a fantastic Stanford student as a graduate of CS229, right? Because there just aren't a lot of CS229 graduates around. Um, so what I want to do today is, um, do a quick intro, talk a little about logistics, um, and then, uh, we'll, we'll spend the second half of the day, you know, giving an overview and, and talk a little bit more about machine learning, okay? And, uh, oh, and I apologize. I, I think that, uh, this room, according to that sign there, seats, what, 300 something students? Uh, I think, uh, we have, uh, uh, like, uh, not quite 800 people enrolled in this class. Um, so if there are people outside, and all, all of the classes are, uh, recorded, broadcast on the SCPD. Uh, they usually, the videos usually made available same day. So for those of you that can't get into the room, my apologies. Um, there, there were some years, um, where even I had trouble getting into the room, but I'm glad you let me in. Uh, but, but I'm- but, but hopefully you can watch- you, you'll be able to watch all of these things online shortly, obviously. Oh, I see. Yes. Yeah. I don't know. Uh, it's a bit complicated. Yeah. Uh, yeah, thank you. I think it's okay. Yeah, I, I, we could, yeah. Yeah, maybe, maybe for the next few classes, people can squeeze in and use up the NTC. So for now, it might be too complicated. Uh, okay. So quick intros. Um, oh, I'm sorry. I should have introduced myself. My name is Andrew. Uh, uh, uh, and I want to introduce some of the rest of the teaching team as well. There's a class coordinator. Um, she has been playing this role for many years now and helps, uh, keep the trains run on time and make sure that everything in class happens when it's supposed to. Uh, uh, so, so, so she'll be here. And then, uh, we're thrilled to have- you guys wanna stand up? Uh, be the co-head TAs. Our respective- the PhD students working with me, uh, and so bring a lot of, um, uh, technical experience, uh, technical experience in machine learning, as well as practical know-how on how to actually make these things work. And with the large class that we have, we have a large TA team. Um, I- maybe I won't introduce all of the TAs here today, but you meet many of them throughout this quarter. But the TAs' expertise span everything from computer vision, to natural language processing, to computer biology, to robotics. And so, um, through this quarter, as you work on your class projects, I hope that you get a lot of, uh, help and advice and mentoring from the TAs, uh, all of which- all of whom have deep expertise not just in machine learning, but often in a specific vertical application area, um, of machine learning. So depending on what your projects, we try to match you to a TA that can give you advice, uh, that most relevant to whatever project you end up working on. Um, so, you know, go with this class. I hope that after the next 10 weeks, uh, you will be an expert in machine learning. Um, it turns out that, uh, uh, you know, um, and- and I hope that after this class, you'll be able to go out and, uh, build very meaningful machine learning applications, uh, either in an academic setting where, uh, hopefully you can apply it to your problems in mechanical engineering, electrical engineering, and, uh, English, and law, and, um, uh, and- and- and education, and all of this wonderful work that happens on campus, uh, as well as after you graduate from Stanford to be able to apply it to whatever jobs you find. Um, one of the things I find very exciting about machine learning is that it's no longer a sort of pure tech company only kind of thing, right? I think that many years ago, um, machine learning, it was like a thing that, you know, the computer science department would do, and that the elite AI companies like Google, and Facebook, and Baidu, and Microsoft would do. Uh, but now, it is so pervasive that even companies that are not traditionally considered tech companies see a huge need to apply these tools, and I find a lot of the most exciting work, uh, these days. Um, and- and maybe some of you guys know my history, so I'm a little bit biased, right? I- I led the Google Brain team which helped Google transform from what was already a great company 10 years ago to today, which is, you know, a great AI company, and then I also led the AI group at Baidu, and, you know, led the company's technology and strategy to help Baidu also transform from what was already a great company many years ago to today, arguably China's greatest AI company. So having led the, you know, built the teams that led the AI transformations of two large tech companies, I- I- I feel like that's a great thing to do, uh, but even beyond tech, I think that, um, there's a lot of exciting work to do as well to help other industries, to help other sectors, uh, embrace machine learning and use these tools effectively. Um, but after this class, I hope that each one of you will be well-qualified to get a job at, uh, a shiny tech company and do machine learning there, or go into one of these other industries and do very valuable machine learning projects there. Um, and in addition, if any of you, um, are taking this class with the primary goal of, uh, being able to do research, uh, in machine learning. So- so actually some- some of you I know are PhD students. Um, I hope that this class will also leave you well-equipped to, um, be able to read and understand research papers, uh, as well as, uh, you know, be qualified to start pushing forward, um, the state of the art. Um, so let's see. Um, so today, uh, so- so just as machine learning is evolving rapidly, um, the whole teaching team would have been, uh, constantly updating CS229 as well. So, um, it is actually very interesting. I feel like the pace of progress in machine learning has accelerated. So it- it actually feels like that, uh, the amount we change the class year over year has been increasing over time. So- so if you're friends that took the class last year, you know, things are a little bit different this year because we're- we're constantly updating the class to keep up with what feels like still accelerating progress in the whole field of machine learning. Um, so- so- so- so there's some logistical changes. For example, uh, uh, we've gone from, uh, what we used to hand out paper copies of handouts, uh, that we're- we're trying to make this class digital only. Um, but let me talk a little bit about, uh, prerequisites as well as in case your friends have taken this class before, some of the differences for this year. All right. Um, so prerequisites. Um, we are going to assume that, um, all of you have a knowledge of basic computer skills and principles. Uh, so, you know, Big O notation, Q-stacks, binary trees. Hopefully, you understand what all of those concepts are. And, uh, assume that all of you have a basic familiarity with, um, uh, probability, right, that hopefully, you know, what's a random variable, what's the expected value of a random variable, what's the variance of a random variable. Um, and if- for some of you, maybe especially the SCPD students taking this remotely, if it's been, you know, some number of years since you last had a probability and statistics class, uh, we will have, uh, review sessions, uh, on- on- on Fridays, uh, where we'll go over some of this prerequisite material as well. But- but so hopefully, you know what a random variable is, what the expected value is. But if you're a little bit fuzzy on those concepts, we'll- we'll go over them again, um, at a- at a discussion section, uh, on Friday. Um, also assume that you're familiar with basic linear algebra. So hopefully, that you know what's a matrix, what's a vector, how to multiply two matrices, or multiply a matrix and a vector. Um, if you know what is an eigenvector, then that's even better. Uh, if you're not quite sure what an eigenvector is, we'll go over it, but- but you- you- you, but, uh, uh, yeah, we'll- we'll go over it, I guess. Um, and then, um, a large part of this class, uh, uh, is, um, having you practice these ideas, uh, through the homeworks, uh, as well as I'll mention later, a, uh, open-ended project. And so, um, one, uh, there- we- we've actually, uh, until now, we used to use, uh, MATLAB, uh, and Octave for their programming assignments. Uh, but this year, we're trying to shift the programming assignments to, uh, Python. Um, and so, um, I think for a long time, uh, even today, you know, I sometimes use Octave to prototype because the syntax for Octave is so nice, and just run, you know, very simple experiments very quickly. But I think the machine learning world, um, is, you know, really migrating, I think, from, um, MATLAB Python world to increasing- excuse me, MATLAB Octave world to increasingly a Python maybe, and- and then eventually for production, Java C++ kind of world. And so, uh, we're rewriting a lot of the assignments for this class this quarter, um, have been- have been driving that process, uh, so that- so that this quarter, you could do more of the assignments, uh, uh, maybe most- maybe all of the assignments in, um, Python, uh, NumPy instead. Um, now, a note on the honor codes, um, we asked that, you know, we- we actually encourage you to form study groups. Uh, so- so, you know, I've been, um, fascinated by education for a long time. It's been a long time studying education and pedagogy, and how instructors like us can help support you to learn more efficiently. And one of the lessons I've learned from the educational research literature is that, for highly technical classes like this, if you form study groups, uh, you will probably have an easier time, right? So- so CS509, we go for the highly technical material. There's a lot of math, some of the programs are hard, and if you have a group of friends to study with, uh, you probably have an easier time, uh, uh, because you can ask each other questions and work together to help each other. Um, where we ask you to draw the line, or what we ask you to- to- to do relative to the standard, uh, honor codes is, um, we ask that you do the homework problems by yourself, right? Uh, and- and- and more specifically, um, it's okay to discuss the homework problems with friends, but if you, um, but after discussing homework problems with friends, we ask you to go back and write up the solutions by yourself, uh, without referring to notes that, you know, you and your friends had developed together. Okay? Um, the classes honor code is written clearly on the class, um, handouts posted digitally on the website. So if you ever have any questions about what is allowed collaboration and what isn't allowed, uh, please refer to that written document on the course website where we describe this more clearly. But, um, all the respect for the Stanford honor code as well as for, uh, uh, you know, for- for- for students kind of doing their own work. We ask you to basically do your own work, uh, for the, um, it's okay to discuss it, but after discussing homework problems with friends, ultimately we ask you to write up your problems by yourself so that the homework submissions reflect your own work, right? Um, and I care about this because it turns out that, uh, having CS229, you know, CS229 is one of those classes that employers recognize. Uh, uh, I don't know if you guys know, but there have been, um, companies that have put up job ads that say stuff like, so long as you got- so long as you complete the CS229, we guarantee you get an interview, right? I've- I've seen stuff like that. And so I think, you know, in order to- to maintain that sanctity of what it means to be a CS229 completer, I think, um, I ask that all of you sort of really do your own work, um, or stay within the bounds of accepted- of acceptable collaboration relative to the honor codes. Um, let's see. And I think that, um, uh, if, uh, you know what? This is, um, yeah. And I think that, uh, one of the best parts of CS229, it turns out is, um, excuse me. So, sorry, I'm gonna try looking for my mouse cursor. Uh, all right. Sorry about that. My, my, my displays are not mirrorizing. So this is a little bit awkward. Um, so one of the best parts of the class is, oh, shoot, sorry about that. All right, never mind. I won't do this. Um, you could do that- you could do yourself online later. Um, yeah. I started using- I started using Firefox recently in addition to Chrome. Anyway, it's just a mix-up. Um, one of the best parts of, um, the class is, um, the class project. Um, and so, you know, one of the goals of the class is to leave you well-qualified to do a meaningful machine learning project. And so, uh, one of the best ways to make sure you have that skill set is through this class, and hopefully with the help of some of the TAs. Uh, we want to support you to work on a small group to complete a meaningful machine learning project. Um, and so one thing I hope you start doing, you know, later today, uh, is to start brainstorming maybe with your friends, um, some of the, some of the class projects you might work on. Uh, and the most common class project that, you know, people do in CSUSD9 is to pick an area, pick an application that excites you and to apply machine learning to it, and see if you can build a good machine learning system for some application area. And so, um, if you go to the course website, you know, cs229.stanford.edu and look at previous year's projects, you- you- you see machine learning projects applied to pretty much, you know, pretty much every imaginable application under the sun. Everything from, I don't know, diagnosing cancer to creating art to, uh, lots of, um, uh, projects applied to other areas of engineering, uh, applying to application areas in EE or mechanical engineering or civil engineering or earthquake engineering and so on, uh, to applying it to understand literature, to applying it to, um, uh, I don't know. And- and- and- and- and so, uh, if you look at the previous year's projects, many of which are posted on the course website, you can use that as inspiration to see the types of projects students complete- completing this class are able to do. And I also encourage you to, um, uh, you can look at that for inspiration, you know, to- to get a sense of what you'll be able to do at the conclusion of this class, and also see if, uh, looking at previous year's projects gives you inspiration for what, um, you might do yourself. Uh, so we ask you to- we- we invite you, I guess, to do class projects in small groups. And so, um, after class today, also encourage you to start making friends in the class, both for the purpose of forming study groups as well as for the purpose of maybe finding a small group to do a class project with. Um, uh, we ask you to form project groups of, um, up to size three. Uh, uh, most project groups end up being size two or three. Um, if you insist on doing it by yourself, right, without any partners, that's actually okay too. You're welcome to do that. But, uh, but- but I think often, you know, having one or two others to work with may give you an easier time. And, uh, for projects of exceptional scope, if you have a very, very large project that just cannot be done by three people, um, uh, sometimes, you know, let us know and we're open to, uh, uh, with- with- to some project groups of size four. But our expectation, but we do hold projects, you know, with a group of four to a higher standard than projects of size one to three. Right. So- so what that means is that if your project team size is, uh, one, two, or three persons, the grading is one criteria. If your project group is, uh, bigger than three persons, we use a stricter criteria when it comes to grading class projects."
          },
          "metadata": {}
        }
      ]
    },
    {
      "cell_type": "markdown",
      "source": [
        "## **URLs**"
      ],
      "metadata": {
        "id": "1L0HYFV0kTTz"
      }
    },
    {
      "cell_type": "code",
      "source": [
        "from langchain.document_loaders import WebBaseLoader\n",
        "\n",
        "loader = WebBaseLoader(\"https://github.com/basecamp/handbook/blob/master/37signals-is-you.md\")\n",
        "docs = loader.load()"
      ],
      "metadata": {
        "id": "NlZq3MYYmPuW"
      },
      "execution_count": null,
      "outputs": []
    },
    {
      "cell_type": "code",
      "source": [
        "len(docs)"
      ],
      "metadata": {
        "colab": {
          "base_uri": "https://localhost:8080/"
        },
        "id": "ysW3jVHZnlc6",
        "outputId": "c32d823d-300f-40c3-d6e0-16fcf83ae1a5"
      },
      "execution_count": null,
      "outputs": [
        {
          "output_type": "execute_result",
          "data": {
            "text/plain": [
              "1"
            ]
          },
          "metadata": {},
          "execution_count": 22
        }
      ]
    },
    {
      "cell_type": "code",
      "source": [
        "display(Markdown(docs[0].page_content))"
      ],
      "metadata": {
        "colab": {
          "base_uri": "https://localhost:8080/",
          "height": 1000
        },
        "id": "6kiphEoWnn_U",
        "outputId": "2739c8c1-1eeb-44ea-80bc-b8ccb66bdc15"
      },
      "execution_count": null,
      "outputs": [
        {
          "output_type": "display_data",
          "data": {
            "text/plain": [
              "<IPython.core.display.Markdown object>"
            ],
            "text/markdown": "\n\n\n\n\n\n\n\n\n\n\n\n\n\n\n\n\n\n\n\n\n\n\n\n\n\n\n\n\n\n\n\n\n\n\n\n\n\n\n\n\n\n\n\n\n\n\n\n\n\n\n\n\n\n\n\n\n\n\n\n\n\n\n\n\n\n\n\n\n\n\n\n\n\n\n\n\n\n\n\n\n\n\nFile not found · GitHub\n\n\n\n\n\n\n\n\n\n\n\n\n\n\n\n\n\n\n\n\n\n\n\n\n\n\n\n\n\n\n\n\n\n\n\n\n\n\n\n\n\n\n\n\n\nSkip to content\n\n\n\n\n\n\n\n\n\n\n\n\nNavigation Menu\n\nToggle navigation\n\n\n\n\n\n\n\n\n\n\n          Sign in\n        \n\n\n \n\n\n\n\n\n\n\n\n\n\n\n\n\n        Product\n        \n\n\n\n\n\n\n\n\n\n\n\n\nActions\n        Automate any workflow\n      \n\n\n\n\n\n\n\nPackages\n        Host and manage packages\n      \n\n\n\n\n\n\n\nSecurity\n        Find and fix vulnerabilities\n      \n\n\n\n\n\n\n\nCodespaces\n        Instant dev environments\n      \n\n\n\n\n\n\n\nCopilot\n        Write better code with AI\n      \n\n\n\n\n\n\n\nCode review\n        Manage code changes\n      \n\n\n\n\n\n\n\nIssues\n        Plan and track work\n      \n\n\n\n\n\n\n\nDiscussions\n        Collaborate outside of code\n      \n\n\n\n\nExplore\n\n\n\n      All features\n\n    \n\n\n\n      Documentation\n\n    \n\n\n\n\n\n      GitHub Skills\n\n    \n\n\n\n\n\n      Blog\n\n    \n\n\n\n\n\n\n\n\n\n        Solutions\n        \n\n\n\n\n\nFor\n\n\n\n      Enterprise\n\n    \n\n\n\n      Teams\n\n    \n\n\n\n      Startups\n\n    \n\n\n\n      Education\n\n    \n\n\n\n\n\n\nBy Solution\n\n\n\n      CI/CD & Automation\n\n    \n\n\n\n      DevOps\n\n    \n\n\n\n      DevSecOps\n\n    \n\n\n\n\n\n\nResources\n\n\n\n      Learning Pathways\n\n    \n\n\n\n\n\n      White papers, Ebooks, Webinars\n\n    \n\n\n\n\n\n      Customer Stories\n\n    \n\n\n\n      Partners\n\n    \n\n\n\n\n\n\n\n\n\n        Open Source\n        \n\n\n\n\n\n\n\n\n\nGitHub Sponsors\n        Fund open source developers\n      \n\n\n\n\n\n\n\n\nThe ReadME Project\n        GitHub community articles\n      \n\n\n\n\nRepositories\n\n\n\n      Topics\n\n    \n\n\n\n      Trending\n\n    \n\n\n\n      Collections\n\n    \n\n\n\n\n\n\nPricing\n\n\n\n\n\n\n\n\n\n\n\n\nSearch or jump to...\n\n\n\n\n\n\n\nSearch code, repositories, users, issues, pull requests...\n\n \n\n\n\n\n        Search\n      \n\n\n\n\n\n\n\n\n\n\n\n\n\nClear\n \n\n\n\n\n\n\n\n\n\n\n\n\n\n\n\n\n\n\n\n\n\n\n\n\n\n\n\n\n\n\n\n\n\n\n\n\n\n\n\n\n\n\n\n\n\n\n\n \n\n\n\n\n              Search syntax tips\n \n\n\n\n\n\n\n\n\n\n\n\n\n\n\n        Provide feedback\n      \n\n\n\n\n\n\n\n\n\n \nWe read every piece of feedback, and take your input very seriously.\n\n\nInclude my email address so I can be contacted\n\n\n     Cancel\n\n    Submit feedback\n\n\n\n\n\n\n\n\n\n\n        Saved searches\n      \nUse saved searches to filter your results more quickly\n\n\n\n\n\n\n\n\n\n \n\n\n\n\n\nName\n\n\n\n\n\n\nQuery\n\n\n\n            To see all available qualifiers, see our documentation.\n          \n \n\n\n\n\n\n     Cancel\n\n    Create saved search\n\n\n\n\n\n\n\n\n              Sign in\n            \n\n\n                  Sign in to GitHub\n\n \n      Username or email address\n    \n\n\n\n      Password\n    \n\nForgot password?\n\n\n\n\n\n\n\n\n\n\n\n\n\n \n\n \nor sign in with a passkey\n\n\n\n\n \n\n              Sign up\n            \n\n\n\n\n\n\n\n\n\nYou signed in with another tab or window. Reload to refresh your session.\nYou signed out in another tab or window. Reload to refresh your session.\nYou switched accounts on another tab or window. Reload to refresh your session.\n \n\n\nDismiss alert\n\n\n\n\n\n\n\n\n\n\n\n\n\n\n\n\n\n\n\n        basecamp\n \n/\n\nhandbook\n\nPublic\n\n\n\n\n\n \n\nNotifications\n You must be signed in to change notification settings\n\n\n \n\nFork\n    754\n\n\n\n\n \n\n\n          Star\n 6.3k\n  \n\n\n\n\n\n\n\n\n\n\n\n\n\n\n\n\nCode\n\n\n\n\n\n\n\nIssues\n1\n\n\n\n\n\n\nPull requests\n0\n\n\n\n\n\n\nActions\n\n\n\n\n\n\n\nSecurity\n\n\n\n\n\n\n\nInsights\n\n\n\n \n\n \n\n\nAdditional navigation options\n\n\n \n\n\n\n\n\n\n\n\n\n\n          Code\n\n\n\n\n\n\n\n\n\n\n          Issues\n\n\n\n\n\n\n\n\n\n\n          Pull requests\n\n\n\n\n\n\n\n\n\n\n          Actions\n\n\n\n\n\n\n\n\n\n\n          Security\n\n\n\n\n\n\n\n\n\n\n          Insights\n\n\n\n\n\n \n\n\n\n\n\n\n\n\n\n\n\n\n\n\n\n\nFooter\n\n\n\n\n\n\n\n\n        © 2024 GitHub, Inc.\n      \n\n\nFooter navigation\n\n\nTerms\n\n\nPrivacy\n\n\nSecurity\n\n\nStatus\n\n\nDocs\n\n\nContact\n\n\n\n\n      Manage cookies\n    \n\n\n\n\n\n      Do not share my personal information\n    \n\n\n\n\n\n\n\n\n\n\n\n\n\n\n\n\n    You can’t perform that action at this time.\n  \n\n\n\n\n\n\n\n\n\n\n\n\n"
          },
          "metadata": {}
        }
      ]
    },
    {
      "cell_type": "markdown",
      "source": [
        "This is a reason that why do we need post-prcocessing!"
      ],
      "metadata": {
        "id": "PbP4WOkhnx38"
      }
    }
  ],
  "metadata": {
    "colab": {
      "provenance": []
    },
    "kernelspec": {
      "display_name": "Python 3",
      "name": "python3"
    },
    "language_info": {
      "name": "python"
    }
  },
  "nbformat": 4,
  "nbformat_minor": 0
}
