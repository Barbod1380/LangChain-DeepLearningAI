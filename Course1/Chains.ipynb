{
  "nbformat": 4,
  "nbformat_minor": 0,
  "metadata": {
    "colab": {
      "provenance": []
    },
    "kernelspec": {
      "name": "python3",
      "display_name": "Python 3"
    },
    "language_info": {
      "name": "python"
    }
  },
  "cells": [
    {
      "cell_type": "markdown",
      "source": [
        "# **Chains in LangChain**\n",
        "\n",
        "## **Outline**\n",
        "\n",
        "* LLMChain\n",
        "* Sequential Chains\n",
        "  * SimpleSequentialChain\n",
        "  * SequentialChain\n",
        "* Router Chain"
      ],
      "metadata": {
        "id": "rHLdRgNFOKw0"
      }
    },
    {
      "cell_type": "markdown",
      "source": [
        "Note: LLM's do not always produce the same results. When executing the code in your notebook, you may get slightly different answers."
      ],
      "metadata": {
        "id": "YNJ6bIgNOc2G"
      }
    },
    {
      "cell_type": "code",
      "source": [
        "! pip install langchain langchain_groq"
      ],
      "metadata": {
        "colab": {
          "base_uri": "https://localhost:8080/"
        },
        "id": "13xiP7ZXOeSh",
        "outputId": "773944c8-18d4-4f8a-8450-d85ffe791aba"
      },
      "execution_count": 85,
      "outputs": [
        {
          "output_type": "stream",
          "name": "stdout",
          "text": [
            "Requirement already satisfied: langchain in /usr/local/lib/python3.10/dist-packages (0.2.0)\n",
            "Requirement already satisfied: langchain_groq in /usr/local/lib/python3.10/dist-packages (0.1.4)\n",
            "Requirement already satisfied: PyYAML>=5.3 in /usr/local/lib/python3.10/dist-packages (from langchain) (6.0.1)\n",
            "Requirement already satisfied: SQLAlchemy<3,>=1.4 in /usr/local/lib/python3.10/dist-packages (from langchain) (2.0.30)\n",
            "Requirement already satisfied: aiohttp<4.0.0,>=3.8.3 in /usr/local/lib/python3.10/dist-packages (from langchain) (3.9.5)\n",
            "Requirement already satisfied: async-timeout<5.0.0,>=4.0.0 in /usr/local/lib/python3.10/dist-packages (from langchain) (4.0.3)\n",
            "Requirement already satisfied: dataclasses-json<0.7,>=0.5.7 in /usr/local/lib/python3.10/dist-packages (from langchain) (0.6.6)\n",
            "Requirement already satisfied: langchain-core<0.3.0,>=0.2.0 in /usr/local/lib/python3.10/dist-packages (from langchain) (0.2.1)\n",
            "Requirement already satisfied: langchain-text-splitters<0.3.0,>=0.2.0 in /usr/local/lib/python3.10/dist-packages (from langchain) (0.2.0)\n",
            "Requirement already satisfied: langsmith<0.2.0,>=0.1.17 in /usr/local/lib/python3.10/dist-packages (from langchain) (0.1.60)\n",
            "Requirement already satisfied: numpy<2,>=1 in /usr/local/lib/python3.10/dist-packages (from langchain) (1.25.2)\n",
            "Requirement already satisfied: pydantic<3,>=1 in /usr/local/lib/python3.10/dist-packages (from langchain) (2.7.1)\n",
            "Requirement already satisfied: requests<3,>=2 in /usr/local/lib/python3.10/dist-packages (from langchain) (2.31.0)\n",
            "Requirement already satisfied: tenacity<9.0.0,>=8.1.0 in /usr/local/lib/python3.10/dist-packages (from langchain) (8.3.0)\n",
            "Requirement already satisfied: groq<1,>=0.4.1 in /usr/local/lib/python3.10/dist-packages (from langchain_groq) (0.7.0)\n",
            "Requirement already satisfied: aiosignal>=1.1.2 in /usr/local/lib/python3.10/dist-packages (from aiohttp<4.0.0,>=3.8.3->langchain) (1.3.1)\n",
            "Requirement already satisfied: attrs>=17.3.0 in /usr/local/lib/python3.10/dist-packages (from aiohttp<4.0.0,>=3.8.3->langchain) (23.2.0)\n",
            "Requirement already satisfied: frozenlist>=1.1.1 in /usr/local/lib/python3.10/dist-packages (from aiohttp<4.0.0,>=3.8.3->langchain) (1.4.1)\n",
            "Requirement already satisfied: multidict<7.0,>=4.5 in /usr/local/lib/python3.10/dist-packages (from aiohttp<4.0.0,>=3.8.3->langchain) (6.0.5)\n",
            "Requirement already satisfied: yarl<2.0,>=1.0 in /usr/local/lib/python3.10/dist-packages (from aiohttp<4.0.0,>=3.8.3->langchain) (1.9.4)\n",
            "Requirement already satisfied: marshmallow<4.0.0,>=3.18.0 in /usr/local/lib/python3.10/dist-packages (from dataclasses-json<0.7,>=0.5.7->langchain) (3.21.2)\n",
            "Requirement already satisfied: typing-inspect<1,>=0.4.0 in /usr/local/lib/python3.10/dist-packages (from dataclasses-json<0.7,>=0.5.7->langchain) (0.9.0)\n",
            "Requirement already satisfied: anyio<5,>=3.5.0 in /usr/local/lib/python3.10/dist-packages (from groq<1,>=0.4.1->langchain_groq) (3.7.1)\n",
            "Requirement already satisfied: distro<2,>=1.7.0 in /usr/lib/python3/dist-packages (from groq<1,>=0.4.1->langchain_groq) (1.7.0)\n",
            "Requirement already satisfied: httpx<1,>=0.23.0 in /usr/local/lib/python3.10/dist-packages (from groq<1,>=0.4.1->langchain_groq) (0.27.0)\n",
            "Requirement already satisfied: sniffio in /usr/local/lib/python3.10/dist-packages (from groq<1,>=0.4.1->langchain_groq) (1.3.1)\n",
            "Requirement already satisfied: typing-extensions<5,>=4.7 in /usr/local/lib/python3.10/dist-packages (from groq<1,>=0.4.1->langchain_groq) (4.11.0)\n",
            "Requirement already satisfied: jsonpatch<2.0,>=1.33 in /usr/local/lib/python3.10/dist-packages (from langchain-core<0.3.0,>=0.2.0->langchain) (1.33)\n",
            "Requirement already satisfied: packaging<24.0,>=23.2 in /usr/local/lib/python3.10/dist-packages (from langchain-core<0.3.0,>=0.2.0->langchain) (23.2)\n",
            "Requirement already satisfied: orjson<4.0.0,>=3.9.14 in /usr/local/lib/python3.10/dist-packages (from langsmith<0.2.0,>=0.1.17->langchain) (3.10.3)\n",
            "Requirement already satisfied: annotated-types>=0.4.0 in /usr/local/lib/python3.10/dist-packages (from pydantic<3,>=1->langchain) (0.6.0)\n",
            "Requirement already satisfied: pydantic-core==2.18.2 in /usr/local/lib/python3.10/dist-packages (from pydantic<3,>=1->langchain) (2.18.2)\n",
            "Requirement already satisfied: charset-normalizer<4,>=2 in /usr/local/lib/python3.10/dist-packages (from requests<3,>=2->langchain) (3.3.2)\n",
            "Requirement already satisfied: idna<4,>=2.5 in /usr/local/lib/python3.10/dist-packages (from requests<3,>=2->langchain) (3.7)\n",
            "Requirement already satisfied: urllib3<3,>=1.21.1 in /usr/local/lib/python3.10/dist-packages (from requests<3,>=2->langchain) (2.0.7)\n",
            "Requirement already satisfied: certifi>=2017.4.17 in /usr/local/lib/python3.10/dist-packages (from requests<3,>=2->langchain) (2024.2.2)\n",
            "Requirement already satisfied: greenlet!=0.4.17 in /usr/local/lib/python3.10/dist-packages (from SQLAlchemy<3,>=1.4->langchain) (3.0.3)\n",
            "Requirement already satisfied: exceptiongroup in /usr/local/lib/python3.10/dist-packages (from anyio<5,>=3.5.0->groq<1,>=0.4.1->langchain_groq) (1.2.1)\n",
            "Requirement already satisfied: httpcore==1.* in /usr/local/lib/python3.10/dist-packages (from httpx<1,>=0.23.0->groq<1,>=0.4.1->langchain_groq) (1.0.5)\n",
            "Requirement already satisfied: h11<0.15,>=0.13 in /usr/local/lib/python3.10/dist-packages (from httpcore==1.*->httpx<1,>=0.23.0->groq<1,>=0.4.1->langchain_groq) (0.14.0)\n",
            "Requirement already satisfied: jsonpointer>=1.9 in /usr/local/lib/python3.10/dist-packages (from jsonpatch<2.0,>=1.33->langchain-core<0.3.0,>=0.2.0->langchain) (2.4)\n",
            "Requirement already satisfied: mypy-extensions>=0.3.0 in /usr/local/lib/python3.10/dist-packages (from typing-inspect<1,>=0.4.0->dataclasses-json<0.7,>=0.5.7->langchain) (1.0.0)\n"
          ]
        }
      ]
    },
    {
      "cell_type": "markdown",
      "source": [
        "### **LLMChain**\n",
        "\n",
        "For using `ChatGroq`, we first need to set API Key."
      ],
      "metadata": {
        "id": "hjCKvwdiOmnW"
      }
    },
    {
      "cell_type": "code",
      "source": [
        "import os\n",
        "\n",
        "os.environ[\"GROQ_API_KEY\"] = \"YOUR-API-KEY\""
      ],
      "metadata": {
        "id": "_0taVDcOPJnt"
      },
      "execution_count": 86,
      "outputs": []
    },
    {
      "cell_type": "code",
      "source": [
        "from langchain_groq import ChatGroq\n",
        "from langchain.prompts import ChatPromptTemplate\n",
        "from langchain.chains import LLMChain"
      ],
      "metadata": {
        "id": "X0S0sLkgOpI6"
      },
      "execution_count": 87,
      "outputs": []
    },
    {
      "cell_type": "code",
      "source": [
        "llm = ChatGroq(\n",
        "    model = \"llama3-70b-8192\",\n",
        "    temperature = 0.9\n",
        ")"
      ],
      "metadata": {
        "id": "wk_EpjJwO5Nj"
      },
      "execution_count": 88,
      "outputs": []
    },
    {
      "cell_type": "code",
      "source": [
        "prompt = ChatPromptTemplate.from_template(\n",
        "    \"What is the best name to describe \\\n",
        "    a company that makes {product}?\"\n",
        ")\n",
        "\n",
        "# Create the chain:\n",
        "chain = LLMChain(llm = llm,\n",
        "                 prompt = prompt)"
      ],
      "metadata": {
        "id": "PGXvKDSjPcH6"
      },
      "execution_count": 89,
      "outputs": []
    },
    {
      "cell_type": "code",
      "source": [
        "product = \"Hats with shape of animation characters.\"\n",
        "\n",
        "# Invoke the chain\n",
        "chain.run(product)"
      ],
      "metadata": {
        "colab": {
          "base_uri": "https://localhost:8080/",
          "height": 105
        },
        "id": "mkktbdR8PxKC",
        "outputId": "9fa377ce-3a69-462a-b56c-7cdeae305f08"
      },
      "execution_count": 90,
      "outputs": [
        {
          "output_type": "execute_result",
          "data": {
            "text/plain": [
              "'What a fun business idea! Here are some name suggestions for a company that makes hats with shapes of animation characters:\\n\\n1. **ToonTop Hats**: A playful combination of \"toon\" (short for cartoon) and \"top hats\" that immediately conveys the idea of animation-themed hats.\\n2. **Character Caps**: This name highlights the colorful characters featured on the hats, and \"caps\" is a colloquial term for hats.\\n3. **Animate Headwear**: This name leverages the word \"animate\" to create a connection with animation characters, and \"headwear\" is a broad term that encompasses hats.\\n4. **Fable Fibers**: \"Fable\" evokes the idea of fictional stories and characters, while \"fibers\" references the materials used to make the hats.\\n5. **Cartoon Crowns**: This name incorporates \"cartoon\" to tie in with animation characters, and \"crowns\" is a regal term that suggests a fun, playful vibe.\\n6. **Pixel Perfect Hats**: \"Pixel\" nods to the digital world of animation, while \"perfect hats\" implies high-quality products.\\n7. **Toonify**: This name is a play on \"toon\" and \"ify,\" suggesting that the company brings animation characters to life on hats.\\n8. **Hero Hats Co.**: \"Hero\" references the heroic characters often found in animation, and \"Co.\" implies a company.\\n9. **Illustrate Identities**: This name highlights the illustrated nature of animation characters and the idea that the hats help people express their identities.\\n10. **Fantasy Fibercraft**: \"Fantasy\" conveys the imaginative world of animation, while \"fibercraft\" emphasizes the craftsmanship that goes into creating the hats.\\n\\nChoose the one that resonates with your brand\\'s personality and tone!'"
            ],
            "application/vnd.google.colaboratory.intrinsic+json": {
              "type": "string"
            }
          },
          "metadata": {},
          "execution_count": 90
        }
      ]
    },
    {
      "cell_type": "markdown",
      "source": [
        "## **SimpleSequentialChain**\n",
        "\n",
        "- The simplest form of a sequential chain is where each step has a single input and output.\n",
        "\n",
        "- The output of one step is passed as input to the next step in the chain. You would use `SimpleSequentialChain` it when you have a linear pipeline where each step has a single input and output. `SimpleSequentialChain` implicitly passes the output of one step as input to the next.\n",
        "\n",
        "- This is great for composing a precise sequence of LLMChains where each builds directly on the previous output."
      ],
      "metadata": {
        "id": "ReFGCmz_RELP"
      }
    },
    {
      "cell_type": "code",
      "source": [
        "from langchain.chains import SimpleSequentialChain"
      ],
      "metadata": {
        "id": "GwYDen0HRIMZ"
      },
      "execution_count": 91,
      "outputs": []
    },
    {
      "cell_type": "code",
      "source": [
        "llm = ChatGroq(\n",
        "    model = \"llama3-70b-8192\",\n",
        "    temperature = 0.8\n",
        ")\n",
        "\n",
        "# prompt template 1\n",
        "first_prompt = ChatPromptTemplate.from_template(\n",
        "    \"What is the best name to describe \\\n",
        "    a company that makes {product}? Give just one name.\"\n",
        ")\n",
        "\n",
        "chain_one = LLMChain(\n",
        "    llm = llm,\n",
        "    prompt = first_prompt\n",
        ")"
      ],
      "metadata": {
        "id": "vZHogKyORPMe"
      },
      "execution_count": 92,
      "outputs": []
    },
    {
      "cell_type": "code",
      "source": [
        "# prompt template 2\n",
        "second_prompt = ChatPromptTemplate.from_template(\n",
        "    \"Write a 20 words description for the following, make sure to use the company name in this description. \\\n",
        "    company:{company_name}\"\n",
        ")\n",
        "\n",
        "# chain 2\n",
        "chain_two = LLMChain(\n",
        "    llm = llm,\n",
        "    prompt = second_prompt\n",
        ")"
      ],
      "metadata": {
        "id": "UDRvsBj2Rfq-"
      },
      "execution_count": 93,
      "outputs": []
    },
    {
      "cell_type": "code",
      "source": [
        "overall_simple_chain = SimpleSequentialChain(\n",
        "    chains = [chain_one, chain_two],\n",
        "    verbose = True\n",
        ")\n",
        "\n",
        "overall_simple_chain.run(product)"
      ],
      "metadata": {
        "colab": {
          "base_uri": "https://localhost:8080/",
          "height": 316
        },
        "id": "aspQbwMFRp7-",
        "outputId": "2d13d439-866f-4bb5-a5d7-4ca2a24bb6c0"
      },
      "execution_count": 94,
      "outputs": [
        {
          "output_type": "stream",
          "name": "stdout",
          "text": [
            "\n",
            "\n",
            "\u001b[1m> Entering new SimpleSequentialChain chain...\u001b[0m\n",
            "\u001b[36;1m\u001b[1;3mWhat a fun question!\n",
            "\n",
            "Here's a suggestion:\n",
            "\n",
            "**ToonCaps**\n",
            "\n",
            "This name plays off the idea of \"toons\" (short for cartoons or animation) and \"caps\" (short for hats or caps). It's catchy, easy to remember, and immediately conveys the idea that the company makes hats with animated characters on them.\u001b[0m\n",
            "\u001b[33;1m\u001b[1;3mHere is a 20-word description for ToonCaps:\n",
            "\n",
            "\"ToonCaps brings imagination to life with vibrant, animated character hats, empowering self-expression and playfulness in kids and kids-at-heart alike worldwide.\"\u001b[0m\n",
            "\n",
            "\u001b[1m> Finished chain.\u001b[0m\n"
          ]
        },
        {
          "output_type": "execute_result",
          "data": {
            "text/plain": [
              "'Here is a 20-word description for ToonCaps:\\n\\n\"ToonCaps brings imagination to life with vibrant, animated character hats, empowering self-expression and playfulness in kids and kids-at-heart alike worldwide.\"'"
            ],
            "application/vnd.google.colaboratory.intrinsic+json": {
              "type": "string"
            }
          },
          "metadata": {},
          "execution_count": 94
        }
      ]
    },
    {
      "cell_type": "markdown",
      "source": [
        "## **SequentialChain**\n",
        "\n",
        "- A more general form of sequential chain allows multiple inputs and outputs per step.\n",
        "\n",
        "- You would use `SequentialChain` when you have a more complex pipeline where steps might have multiple inputs and outputs.\n",
        "\n",
        "- `SequentialChain` allows you to explicitly specify all the input and output variables at each step and map outputs from one step to inputs of the next. This provides more flexibility when steps might have multiple dependencies or produce multiple results to pass along."
      ],
      "metadata": {
        "id": "HCxcNmdlTFFj"
      }
    },
    {
      "cell_type": "code",
      "source": [
        "from langchain.chains import SequentialChain"
      ],
      "metadata": {
        "id": "o5PfC9n9TIsK"
      },
      "execution_count": 95,
      "outputs": []
    },
    {
      "cell_type": "code",
      "source": [
        "llm = ChatGroq(\n",
        "    model = \"llama3-70b-8192\",\n",
        "    temperature = 0.9\n",
        ")\n",
        "\n",
        "# prompt template 1: translate to english\n",
        "first_prompt = ChatPromptTemplate.from_template(\n",
        "    \"Translate the following review to english:\"\n",
        "    \"\\n\\n{Review}\"\n",
        ")\n",
        "\n",
        "# First chain\n",
        "chain_one = LLMChain(\n",
        "    llm = llm,\n",
        "    prompt = first_prompt,\n",
        "    output_key = \"English_Review\"\n",
        ")"
      ],
      "metadata": {
        "id": "Lz4cYhx8TZr5"
      },
      "execution_count": 96,
      "outputs": []
    },
    {
      "cell_type": "code",
      "source": [
        "second_prompt = ChatPromptTemplate.from_template(\n",
        "    \"Can you summarize the following review in 1 sentence:\"\n",
        "    \"\\n\\n{English_Review}\"\n",
        ")\n",
        "\n",
        "# chain 2: input= English_Review and output= summary\n",
        "chain_two = LLMChain(\n",
        "    llm = llm,\n",
        "    prompt = second_prompt,\n",
        "    output_key = \"summary\"\n",
        ")"
      ],
      "metadata": {
        "id": "BZr6dy7QTmlX"
      },
      "execution_count": 97,
      "outputs": []
    },
    {
      "cell_type": "code",
      "source": [
        "# prompt template 3: translate to english\n",
        "third_prompt = ChatPromptTemplate.from_template(\n",
        "    \"What language is the following review:\\n\\n{Review}\"\n",
        ")\n",
        "\n",
        "# chain 3: input= Review and output= language\n",
        "chain_three = LLMChain(\n",
        "    llm = llm,\n",
        "    prompt = third_prompt,\n",
        "    output_key = \"language\"\n",
        ")"
      ],
      "metadata": {
        "id": "Y3AAPhx9UOps"
      },
      "execution_count": 98,
      "outputs": []
    },
    {
      "cell_type": "code",
      "source": [
        "# prompt template 4: follow up message\n",
        "fourth_prompt = ChatPromptTemplate.from_template(\n",
        "    \"Write a follow up response to the following \"\n",
        "    \"summary in the specified language:\"\n",
        "    \"\\n\\nSummary: {summary}\\n\\nLanguage: {language}\"\n",
        ")\n",
        "\n",
        "# chain 4: input= summary, language and output= followup_message\n",
        "chain_four = LLMChain(llm = llm,\n",
        "                      prompt = fourth_prompt,\n",
        "                      output_key = \"followup_message\"\n",
        "                     )"
      ],
      "metadata": {
        "id": "Xmp0nkpOUfY2"
      },
      "execution_count": 99,
      "outputs": []
    },
    {
      "cell_type": "code",
      "source": [
        "# overall_chain: input = Review\n",
        "# and output = English_Review, summary, language, followup_message\n",
        "overall_chain = SequentialChain(\n",
        "    chains = [chain_one, chain_two, chain_three, chain_four],\n",
        "    input_variables = [\"Review\"],\n",
        "    output_variables = [\"English_Review\", \"summary\", \"language\", \"followup_message\"],\n",
        "    verbose = True\n",
        ")"
      ],
      "metadata": {
        "id": "rE-9_S-MU6Er"
      },
      "execution_count": 100,
      "outputs": []
    },
    {
      "cell_type": "code",
      "source": [
        "overall_chain(\"I think that is a wonderful product, It's price is a little high but I think It worths it.\")"
      ],
      "metadata": {
        "colab": {
          "base_uri": "https://localhost:8080/"
        },
        "id": "ly8EbhPUWRpm",
        "outputId": "77b76525-36f1-4545-f30b-79acd939e3b1"
      },
      "execution_count": 101,
      "outputs": [
        {
          "output_type": "stream",
          "name": "stdout",
          "text": [
            "\n",
            "\n",
            "\u001b[1m> Entering new SequentialChain chain...\u001b[0m\n",
            "\n",
            "\u001b[1m> Finished chain.\u001b[0m\n"
          ]
        },
        {
          "output_type": "execute_result",
          "data": {
            "text/plain": [
              "{'Review': \"I think that is a wonderful product, It's price is a little high but I think It worths it.\",\n",
              " 'English_Review': 'Here is the review translated to English:\\n\\n\"I think this is a wonderful product. Although the price is a bit steep, I believe it\\'s worth it.\"',\n",
              " 'summary': 'Here is a summary of the review in 1 sentence:\\n\\nThe reviewer highly recommends the product, considering it worth the steep price.',\n",
              " 'language': 'The language of the review is likely non-native English, possibly from an Asian language such as Chinese or Japanese. The grammatical errors and sentence structure suggest that the writer is not a native English speaker.\\n\\nSpecifically, the errors include:\\n\\n* \"I think that is a wonderful product\" should be \"I think it\\'s a wonderful product\" or \"I think that it\\'s a wonderful product\"\\n* \"It\\'s price is a little high\" should be \"The price is a little high\" or \"Its price is a little high\"\\n* \"I think It worths it\" should be \"I think it\\'s worth it\"\\n\\nDespite these errors, the meaning of the review is still clear, and the writer\\'s intention is to express a positive opinion of the product.',\n",
              " 'followup_message': 'Here is a follow-up response to the summary:\\n\\n\"Dear Reviewer,\\n\\nThank you for taking the time to share your thoughts on the product! We\\'re thrilled to hear that you highly recommend it, despite the higher price point. Your enthusiasm is much appreciated, and we\\'re glad you think it\\'s worth the investment.\\n\\nDon\\'t worry about the minor language errors - your message comes across loud and clear! We appreciate your effort to communicate in English, and we\\'re happy to help you refine your language skills if you need it.\\n\\nThanks again for your glowing review! We\\'re looking forward to hearing more about your experience with our product.\\n\\nBest regards, [Your Name]\"'}"
            ]
          },
          "metadata": {},
          "execution_count": 101
        }
      ]
    },
    {
      "cell_type": "markdown",
      "source": [
        "## **Router Chain**\n",
        "\n",
        "- Router chains allow routing inputs to different destination chains based on the input text. This allows the building of chatbots and assistants that can handle diverse requests.\n",
        "\n",
        "  - Router chains examine the input text and route it to the appropriate\n",
        "  destination chain.\n",
        "  - Destination chains handle the actual execution based on the input.\n",
        "  - Router chains are powerful for building multi-purpose chatbots/assistants.\n"
      ],
      "metadata": {
        "id": "s-ep8Hx1hYC6"
      }
    },
    {
      "cell_type": "code",
      "source": [
        "physics_template = \"\"\"You are a very smart physics professor. \\\n",
        "You are great at answering questions about physics in a concise\\\n",
        "and easy to understand manner. \\\n",
        "When you don't know the answer to a question you admit\\\n",
        "that you don't know.\n",
        "\n",
        "Here is a question:\n",
        "{input}\"\"\"\n",
        "\n",
        "\n",
        "math_template = \"\"\"You are a very good mathematician. \\\n",
        "You are great at answering math questions. \\\n",
        "You are so good because you are able to break down \\\n",
        "hard problems into their component parts,\n",
        "answer the component parts, and then put them together\\\n",
        "to answer the broader question.\n",
        "\n",
        "Here is a question:\n",
        "{input}\"\"\"\n",
        "\n",
        "history_template = \"\"\"You are a very good historian. \\\n",
        "You have an excellent knowledge of and understanding of people,\\\n",
        "events and contexts from a range of historical periods. \\\n",
        "You have the ability to think, reflect, debate, discuss and \\\n",
        "evaluate the past. You have a respect for historical evidence\\\n",
        "and the ability to make use of it to support your explanations \\\n",
        "and judgements.\n",
        "\n",
        "Here is a question:\n",
        "{input}\"\"\"\n",
        "\n",
        "\n",
        "computerscience_template = \"\"\" You are a successful computer scientist.\\\n",
        "You have a passion for creativity, collaboration,\\\n",
        "forward-thinking, confidence, strong problem-solving capabilities,\\\n",
        "understanding of theories and algorithms, and excellent communication \\\n",
        "skills. You are great at answering coding questions. \\\n",
        "You are so good because you know how to solve a problem by \\\n",
        "describing the solution in imperative steps \\\n",
        "that a machine can easily interpret and you know how to \\\n",
        "choose a solution that has a good balance between \\\n",
        "time complexity and space complexity.\n",
        "\n",
        "Here is a question:\n",
        "{input}\"\"\""
      ],
      "metadata": {
        "id": "FW5ixEYZhcgC"
      },
      "execution_count": 102,
      "outputs": []
    },
    {
      "cell_type": "code",
      "source": [
        "prompt_infos = [\n",
        "    {\n",
        "        \"name\": \"physics\",\n",
        "        \"description\": \"Good for answering questions about physics\",\n",
        "        \"prompt_template\": physics_template\n",
        "    },\n",
        "    {\n",
        "        \"name\": \"math\",\n",
        "        \"description\": \"Good for answering math questions\",\n",
        "        \"prompt_template\": math_template\n",
        "    },\n",
        "    {\n",
        "        \"name\": \"History\",\n",
        "        \"description\": \"Good for answering history questions\",\n",
        "        \"prompt_template\": history_template\n",
        "    },\n",
        "    {\n",
        "        \"name\": \"computer science\",\n",
        "        \"description\": \"Good for answering computer science questions\",\n",
        "        \"prompt_template\": computerscience_template\n",
        "    }\n",
        "]"
      ],
      "metadata": {
        "id": "nNMiM6qHhjks"
      },
      "execution_count": 103,
      "outputs": []
    },
    {
      "cell_type": "code",
      "source": [
        "from langchain.chains.router import MultiPromptChain\n",
        "from langchain.chains.router.llm_router import LLMRouterChain, RouterOutputParser\n",
        "from langchain.prompts import PromptTemplate"
      ],
      "metadata": {
        "id": "DOPFczOoiAKM"
      },
      "execution_count": 104,
      "outputs": []
    },
    {
      "cell_type": "code",
      "source": [
        "llm = ChatGroq(\n",
        "    model = \"llama3-70b-8192\",\n",
        "    temperature = 0.05\n",
        ")"
      ],
      "metadata": {
        "id": "ATE7IFjbiRAp"
      },
      "execution_count": 105,
      "outputs": []
    },
    {
      "cell_type": "code",
      "source": [
        "destination_chains = {}\n",
        "for p_info in prompt_infos:\n",
        "\n",
        "  # Extract the name and prompt template\n",
        "  name = p_info[\"name\"]\n",
        "  prompt_template = p_info[\"prompt_template\"]\n",
        "\n",
        "  prompt = ChatPromptTemplate.from_template(template = prompt_template)\n",
        "  chain = LLMChain(llm = llm, prompt = prompt)\n",
        "  destination_chains[name] = chain\n",
        "\n",
        "print(destination_chains)"
      ],
      "metadata": {
        "colab": {
          "base_uri": "https://localhost:8080/"
        },
        "id": "5-8UwIp7ia1q",
        "outputId": "419ea0d0-3356-47d8-bd64-4c1603e780fb"
      },
      "execution_count": 106,
      "outputs": [
        {
          "output_type": "stream",
          "name": "stdout",
          "text": [
            "{'physics': LLMChain(prompt=ChatPromptTemplate(input_variables=['input'], messages=[HumanMessagePromptTemplate(prompt=PromptTemplate(input_variables=['input'], template=\"You are a very smart physics professor. You are great at answering questions about physics in a conciseand easy to understand manner. When you don't know the answer to a question you admitthat you don't know.\\n\\nHere is a question:\\n{input}\"))]), llm=ChatGroq(client=<groq.resources.chat.completions.Completions object at 0x797118799cc0>, async_client=<groq.resources.chat.completions.AsyncCompletions object at 0x7971187a77f0>, model_name='llama3-70b-8192', temperature=0.05, groq_api_key=SecretStr('**********'))), 'math': LLMChain(prompt=ChatPromptTemplate(input_variables=['input'], messages=[HumanMessagePromptTemplate(prompt=PromptTemplate(input_variables=['input'], template='You are a very good mathematician. You are great at answering math questions. You are so good because you are able to break down hard problems into their component parts, \\nanswer the component parts, and then put them togetherto answer the broader question.\\n\\nHere is a question:\\n{input}'))]), llm=ChatGroq(client=<groq.resources.chat.completions.Completions object at 0x797118799cc0>, async_client=<groq.resources.chat.completions.AsyncCompletions object at 0x7971187a77f0>, model_name='llama3-70b-8192', temperature=0.05, groq_api_key=SecretStr('**********'))), 'History': LLMChain(prompt=ChatPromptTemplate(input_variables=['input'], messages=[HumanMessagePromptTemplate(prompt=PromptTemplate(input_variables=['input'], template='You are a very good historian. You have an excellent knowledge of and understanding of people,events and contexts from a range of historical periods. You have the ability to think, reflect, debate, discuss and evaluate the past. You have a respect for historical evidenceand the ability to make use of it to support your explanations and judgements.\\n\\nHere is a question:\\n{input}'))]), llm=ChatGroq(client=<groq.resources.chat.completions.Completions object at 0x797118799cc0>, async_client=<groq.resources.chat.completions.AsyncCompletions object at 0x7971187a77f0>, model_name='llama3-70b-8192', temperature=0.05, groq_api_key=SecretStr('**********'))), 'computer science': LLMChain(prompt=ChatPromptTemplate(input_variables=['input'], messages=[HumanMessagePromptTemplate(prompt=PromptTemplate(input_variables=['input'], template=' You are a successful computer scientist.You have a passion for creativity, collaboration,forward-thinking, confidence, strong problem-solving capabilities,understanding of theories and algorithms, and excellent communication skills. You are great at answering coding questions. You are so good because you know how to solve a problem by describing the solution in imperative steps that a machine can easily interpret and you know how to choose a solution that has a good balance between time complexity and space complexity. \\n\\nHere is a question:\\n{input}'))]), llm=ChatGroq(client=<groq.resources.chat.completions.Completions object at 0x797118799cc0>, async_client=<groq.resources.chat.completions.AsyncCompletions object at 0x7971187a77f0>, model_name='llama3-70b-8192', temperature=0.05, groq_api_key=SecretStr('**********')))}\n"
          ]
        }
      ]
    },
    {
      "cell_type": "code",
      "source": [
        "destinations = [f\"{p['name']}: {p['description']}\" for p in prompt_infos]\n",
        "\n",
        "destinations_str = \"\\n\".join(destinations)"
      ],
      "metadata": {
        "id": "JdSluvAsjLwF"
      },
      "execution_count": 107,
      "outputs": []
    },
    {
      "cell_type": "code",
      "source": [
        "print(destinations)\n",
        "print(\"----------------\\n\")\n",
        "print(destinations_str)"
      ],
      "metadata": {
        "colab": {
          "base_uri": "https://localhost:8080/"
        },
        "id": "Qjw2N49CjkR7",
        "outputId": "a9fbdab1-ba31-460f-fa0a-86903c77f528"
      },
      "execution_count": 108,
      "outputs": [
        {
          "output_type": "stream",
          "name": "stdout",
          "text": [
            "['physics: Good for answering questions about physics', 'math: Good for answering math questions', 'History: Good for answering history questions', 'computer science: Good for answering computer science questions']\n",
            "----------------\n",
            "\n",
            "physics: Good for answering questions about physics\n",
            "math: Good for answering math questions\n",
            "History: Good for answering history questions\n",
            "computer science: Good for answering computer science questions\n"
          ]
        }
      ]
    },
    {
      "cell_type": "code",
      "source": [
        "default_prompt = ChatPromptTemplate.from_template(\"{input}\")\n",
        "\n",
        "default_chain = LLMChain(\n",
        "    llm = llm,\n",
        "    prompt = default_prompt)"
      ],
      "metadata": {
        "id": "b0JEnkOpjTTI"
      },
      "execution_count": 109,
      "outputs": []
    },
    {
      "cell_type": "code",
      "source": [
        "MULTI_PROMPT_ROUTER_TEMPLATE = \"\"\"Given a raw text input to a \\\n",
        "language model select the model prompt best suited for the input. \\\n",
        "You will be given the names of the available prompts and a \\\n",
        "description of what the prompt is best suited for. \\\n",
        "You may also revise the original input if you think that revising\\\n",
        "it will ultimately lead to a better response from the language model.\n",
        "\n",
        "<< FORMATTING >>\n",
        "Return a markdown code snippet with a JSON object formatted to look like:\n",
        "```json\n",
        "{{{{\n",
        "    \"destination\": string \\ name of the prompt to use or \"DEFAULT\"\n",
        "    \"next_inputs\": string \\ a potentially modified version of the original input\n",
        "}}}}\n",
        "```\n",
        "\n",
        "REMEMBER: \"destination\" MUST be one of the candidate prompt \\\n",
        "names specified below OR it can be \"DEFAULT\" if the input is not\\\n",
        "well suited for any of the candidate prompts.\n",
        "REMEMBER: \"next_inputs\" can just be the original input \\\n",
        "if you don't think any modifications are needed.\n",
        "\n",
        "<< CANDIDATE PROMPTS >>\n",
        "{destinations}\n",
        "\n",
        "<< INPUT >>\n",
        "{{input}}\n",
        "\n",
        "<< OUTPUT (remember to include the ```json)>>\"\"\""
      ],
      "metadata": {
        "id": "cF_a9UezkF2w"
      },
      "execution_count": 110,
      "outputs": []
    },
    {
      "cell_type": "code",
      "source": [
        "router_template = MULTI_PROMPT_ROUTER_TEMPLATE.format(\n",
        "    destinations = destinations_str\n",
        ")\n",
        "\n",
        "router_prompt = PromptTemplate(\n",
        "    template = router_template,\n",
        "    input_variables = [\"input\"],\n",
        "    output_parser = RouterOutputParser()\n",
        ")\n",
        "\n",
        "router_chain = LLMRouterChain.from_llm(llm, router_prompt)"
      ],
      "metadata": {
        "id": "tRbIjkP1kKLB"
      },
      "execution_count": 111,
      "outputs": []
    },
    {
      "cell_type": "code",
      "source": [
        "router_template"
      ],
      "metadata": {
        "id": "kMeu0dr9mfyt",
        "outputId": "15cf07ea-2251-4291-e4cc-cc8cedcbdc2b",
        "colab": {
          "base_uri": "https://localhost:8080/",
          "height": 105
        }
      },
      "execution_count": 112,
      "outputs": [
        {
          "output_type": "execute_result",
          "data": {
            "text/plain": [
              "'Given a raw text input to a language model select the model prompt best suited for the input. You will be given the names of the available prompts and a description of what the prompt is best suited for. You may also revise the original input if you think that revisingit will ultimately lead to a better response from the language model.\\n\\n<< FORMATTING >>\\nReturn a markdown code snippet with a JSON object formatted to look like:\\n```json\\n{{\\n    \"destination\": string \\\\ name of the prompt to use or \"DEFAULT\"\\n    \"next_inputs\": string \\\\ a potentially modified version of the original input\\n}}\\n```\\n\\nREMEMBER: \"destination\" MUST be one of the candidate prompt names specified below OR it can be \"DEFAULT\" if the input is notwell suited for any of the candidate prompts.\\nREMEMBER: \"next_inputs\" can just be the original input if you don\\'t think any modifications are needed.\\n\\n<< CANDIDATE PROMPTS >>\\nphysics: Good for answering questions about physics\\nmath: Good for answering math questions\\nHistory: Good for answering history questions\\ncomputer science: Good for answering computer science questions\\n\\n<< INPUT >>\\n{input}\\n\\n<< OUTPUT (remember to include the ```json)>>'"
            ],
            "application/vnd.google.colaboratory.intrinsic+json": {
              "type": "string"
            }
          },
          "metadata": {},
          "execution_count": 112
        }
      ]
    },
    {
      "cell_type": "code",
      "source": [
        "chain = MultiPromptChain(\n",
        "    router_chain = router_chain,\n",
        "    destination_chains = destination_chains,\n",
        "    default_chain = default_chain,\n",
        "    verbose = True\n",
        "    )"
      ],
      "metadata": {
        "id": "M0O3o8KSk7Ja"
      },
      "execution_count": 113,
      "outputs": []
    },
    {
      "cell_type": "code",
      "source": [
        "chain.run(\"What is black body radiation?\")"
      ],
      "metadata": {
        "colab": {
          "base_uri": "https://localhost:8080/",
          "height": 192
        },
        "id": "139oY4pVlCwo",
        "outputId": "b7dd11c4-80be-4f12-8634-3385e5a76cc3"
      },
      "execution_count": 114,
      "outputs": [
        {
          "output_type": "stream",
          "name": "stdout",
          "text": [
            "\n",
            "\n",
            "\u001b[1m> Entering new MultiPromptChain chain...\u001b[0m\n",
            "physics: {'input': 'What is blackbody radiation?'}\n",
            "\u001b[1m> Finished chain.\u001b[0m\n"
          ]
        },
        {
          "output_type": "execute_result",
          "data": {
            "text/plain": [
              "\"Blackbody radiation is a fundamental concept in physics, and I'm happy to explain it in simple terms.\\n\\nBlackbody radiation is the thermal radiation emitted by an idealized perfect absorber of electromagnetic radiation, known as a blackbody. In other words, it's the radiation emitted by an object when it's heated.\\n\\nHere's the key idea: when an object is heated, its atoms or molecules gain energy and start vibrating rapidly. As they vibrate, they emit photons across a wide range of frequencies, including visible light, infrared, and even X-rays. This emitted radiation is what we call blackbody radiation.\\n\\nThe fascinating thing about blackbody radiation is that its spectrum (the distribution of energy across different frequencies) is universal, meaning it doesn't depend on the material properties of the object. This is known as Planck's law, named after Max Planck, who first described it in the early 20th century.\\n\\nIn essence, blackbody radiation is a fundamental process that helps us understand how objects interact with light and heat. It has many practical applications, from understanding the behavior of stars to designing thermal imaging cameras.\\n\\nI hope that helps! Do you have any follow-up questions about blackbody radiation?\""
            ],
            "application/vnd.google.colaboratory.intrinsic+json": {
              "type": "string"
            }
          },
          "metadata": {},
          "execution_count": 114
        }
      ]
    },
    {
      "cell_type": "code",
      "source": [
        "chain.run(\"what is 2 + 2\")"
      ],
      "metadata": {
        "colab": {
          "base_uri": "https://localhost:8080/",
          "height": 157
        },
        "id": "JVuWLyeQlD8a",
        "outputId": "5bc4e35f-be6b-4fb7-f6c2-6803f5a3b33f"
      },
      "execution_count": 115,
      "outputs": [
        {
          "output_type": "stream",
          "name": "stdout",
          "text": [
            "\n",
            "\n",
            "\u001b[1m> Entering new MultiPromptChain chain...\u001b[0m\n",
            "math: {'input': 'what is the value of 2 + 2'}\n",
            "\u001b[1m> Finished chain.\u001b[0m\n"
          ]
        },
        {
          "output_type": "execute_result",
          "data": {
            "text/plain": [
              "\"A classic!\\n\\nTo answer this question, I'll break it down into its simplest component parts:\\n\\n* 2: a single value\\n* 2: another single value\\n* +: the operation of addition\\n\\nNow, let's evaluate each component part:\\n\\n* 2: the value is simply 2\\n* 2: the value is simply 2\\n* +: the operation of addition means we need to combine the two values\\n\\nNow, let's put the component parts together:\\n\\n2 + 2 = ?\\n\\nTo answer this, I'll perform the operation of addition:\\n\\n2 + 2 = 4\\n\\nTherefore, the value of 2 + 2 is 4.\""
            ],
            "application/vnd.google.colaboratory.intrinsic+json": {
              "type": "string"
            }
          },
          "metadata": {},
          "execution_count": 115
        }
      ]
    },
    {
      "cell_type": "code",
      "source": [
        "chain.run(\"Why does every cell in our body contain DNA?\")"
      ],
      "metadata": {
        "colab": {
          "base_uri": "https://localhost:8080/",
          "height": 174
        },
        "id": "7HK31DMwlFIO",
        "outputId": "ec29d59d-87c9-4227-881d-61db67f18e83"
      },
      "execution_count": 116,
      "outputs": [
        {
          "output_type": "stream",
          "name": "stdout",
          "text": [
            "\n",
            "\n",
            "\u001b[1m> Entering new MultiPromptChain chain...\u001b[0m\n",
            "physics: {'input': 'What is the biological significance of DNA in human cells?'}\n",
            "\u001b[1m> Finished chain.\u001b[0m\n"
          ]
        },
        {
          "output_type": "execute_result",
          "data": {
            "text/plain": [
              "\"I'm a physics professor, not a biologist! While I can appreciate the importance of DNA, I must admit that I'm not the best person to answer this question. DNA is a molecule that contains the genetic instructions used in the development and function of all living organisms, but the specifics of its biological significance in human cells are outside my area of expertise.\\n\\nHowever, I can suggest that you consult with a biologist or a biochemist who can provide a more detailed and accurate answer. They can explain how DNA is involved in the transmission of genetic information, the synthesis of proteins, and the regulation of gene expression, among other things.\\n\\nAs a physicist, I'll stick to what I know best: the fascinating world of atoms, particles, and forces!\""
            ],
            "application/vnd.google.colaboratory.intrinsic+json": {
              "type": "string"
            }
          },
          "metadata": {},
          "execution_count": 116
        }
      ]
    }
  ]
}
