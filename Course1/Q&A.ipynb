{
  "nbformat": 4,
  "nbformat_minor": 0,
  "metadata": {
    "colab": {
      "provenance": [],
      "gpuType": "T4"
    },
    "kernelspec": {
      "name": "python3",
      "display_name": "Python 3"
    },
    "language_info": {
      "name": "python"
    },
    "accelerator": "GPU"
  },
  "cells": [
    {
      "cell_type": "markdown",
      "source": [
        "# **Q&A Over Documents**\n",
        "\n",
        "An example might be a tool that would allow you to query a product catalog for items of interest."
      ],
      "metadata": {
        "id": "gBCKeuXAyc5n"
      }
    },
    {
      "cell_type": "code",
      "source": [
        "## ! pip install langchain langchain_groq langchain_community chromadb sentence_transformers docarray"
      ],
      "metadata": {
        "collapsed": true,
        "id": "dgXPPlFYyd3k"
      },
      "execution_count": 16,
      "outputs": []
    },
    {
      "cell_type": "markdown",
      "source": [
        "Note: LLM's do not always produce the same results. When executing the code in your notebook, you may get slightly different answers that those in the video."
      ],
      "metadata": {
        "id": "YK45svxRymCY"
      }
    },
    {
      "cell_type": "code",
      "source": [
        "from langchain.vectorstores import DocArrayInMemorySearch\n",
        "from langchain.indexes import VectorstoreIndexCreator\n",
        "from langchain.document_loaders import CSVLoader\n",
        "from IPython.display import display, Markdown\n",
        "\n",
        "file = 'OutdoorClothingCatalog_1000.csv'\n",
        "loader = CSVLoader(file_path = file)"
      ],
      "metadata": {
        "id": "_w9m04TlaNaZ"
      },
      "execution_count": 2,
      "outputs": []
    },
    {
      "cell_type": "markdown",
      "source": [
        "## **Embeddings:**\n",
        "Embeddings are numerical representations of text, images, or other data types in a continuous vector space. They are created by machine learning models to capture the semantic meaning of the input data in a way that similar inputs have similar embeddings."
      ],
      "metadata": {
        "id": "oxw5vpADcvS4"
      }
    },
    {
      "cell_type": "markdown",
      "source": [
        "### `VectorstoreIndexCreator`\n",
        "The `VectorstoreIndexCreator` in LangChain is a utility that simplifies the process of creating, managing, and using vector-based indices for retrieving documents or information. It leverages vector embeddings to represent documents and queries, facilitating efficient and effective search and retrieval tasks."
      ],
      "metadata": {
        "id": "TIB5aRO1dYuw"
      }
    },
    {
      "cell_type": "code",
      "source": [
        "from langchain_community.embeddings import HuggingFaceEmbeddings\n",
        "\n",
        "index = VectorstoreIndexCreator(\n",
        "    embedding = HuggingFaceEmbeddings(),\n",
        "    vectorstore_cls = DocArrayInMemorySearch\n",
        ").from_loaders([loader])"
      ],
      "metadata": {
        "colab": {
          "base_uri": "https://localhost:8080/"
        },
        "id": "_NOIA0J7acC6",
        "outputId": "025af7b2-39b1-4e00-8b78-539b68c83f38"
      },
      "execution_count": 3,
      "outputs": [
        {
          "output_type": "stream",
          "name": "stderr",
          "text": [
            "/usr/local/lib/python3.10/dist-packages/langchain_core/_api/deprecation.py:139: LangChainDeprecationWarning: The class `HuggingFaceEmbeddings` was deprecated in LangChain 0.2.2 and will be removed in 0.3.0. An updated version of the class exists in the langchain-huggingface package and should be used instead. To use it run `pip install -U langchain-huggingface` and import as `from langchain_huggingface import HuggingFaceEmbeddings`.\n",
            "  warn_deprecated(\n",
            "/usr/local/lib/python3.10/dist-packages/sentence_transformers/cross_encoder/CrossEncoder.py:11: TqdmExperimentalWarning: Using `tqdm.autonotebook.tqdm` in notebook mode. Use `tqdm.tqdm` instead to force console mode (e.g. in jupyter console)\n",
            "  from tqdm.autonotebook import tqdm, trange\n",
            "/usr/local/lib/python3.10/dist-packages/huggingface_hub/utils/_token.py:89: UserWarning: \n",
            "The secret `HF_TOKEN` does not exist in your Colab secrets.\n",
            "To authenticate with the Hugging Face Hub, create a token in your settings tab (https://huggingface.co/settings/tokens), set it as secret in your Google Colab and restart your session.\n",
            "You will be able to reuse this secret in all of your notebooks.\n",
            "Please note that authentication is recommended but still optional to access public models or datasets.\n",
            "  warnings.warn(\n",
            "/usr/local/lib/python3.10/dist-packages/huggingface_hub/file_download.py:1132: FutureWarning: `resume_download` is deprecated and will be removed in version 1.0.0. Downloads always resume when possible. If you want to force a new download, use `force_download=True`.\n",
            "  warnings.warn(\n",
            "/usr/local/lib/python3.10/dist-packages/pydantic/_migration.py:283: UserWarning: `pydantic.error_wrappers:ValidationError` has been moved to `pydantic:ValidationError`.\n",
            "  warnings.warn(f'`{import_path}` has been moved to `{new_location}`.')\n"
          ]
        }
      ]
    },
    {
      "cell_type": "code",
      "source": [
        "from langchain_groq import ChatGroq\n",
        "import os\n",
        "\n",
        "os.environ['GROQ_API_KEY'] = 'YOUR-API-KEY'"
      ],
      "metadata": {
        "id": "e4Sx-Pilbc_9"
      },
      "execution_count": 4,
      "outputs": []
    },
    {
      "cell_type": "code",
      "source": [
        "llm = ChatGroq(\n",
        "    model = \"llama3-70b-8192\",\n",
        "    temperature = 0.2\n",
        ")\n",
        "\n",
        "query = \"Please list all your shirts with sun protection \\\n",
        "in a table in markdown and summarize each one.\""
      ],
      "metadata": {
        "id": "bvHzJ21Tb6XD"
      },
      "execution_count": 5,
      "outputs": []
    },
    {
      "cell_type": "code",
      "source": [
        "response = index.query(query,\n",
        "                       llm = llm)\n",
        "\n",
        "display(Markdown(response))"
      ],
      "metadata": {
        "colab": {
          "base_uri": "https://localhost:8080/",
          "height": 407
        },
        "id": "5uVGioDlcgMh",
        "outputId": "81d5dd3b-e26b-4812-b98a-01dcc542fe17"
      },
      "execution_count": 6,
      "outputs": [
        {
          "output_type": "display_data",
          "data": {
            "text/plain": [
              "<IPython.core.display.Markdown object>"
            ],
            "text/markdown": "Here is the list of shirts with sun protection in a table in markdown:\n\n| **Shirt Name** | **Description** | **Fabric** | **UPF Rating** | **Features** |\n| --- | --- | --- | --- | --- |\n| Women's Tropical Tee, Sleeveless | Slightly fitted, sleeveless button-up shirt with SunSmart™ protection | 71% nylon, 29% polyester | UPF 50+ | Wrinkle resistant, low-profile pockets, front and back cape venting, two front pockets, tool tabs, and eyewear loop |\n| Sun Shield Shirt | High-performance sun shirt with UPF 50+ protection | 78% nylon, 22% Lycra Xtra Life fiber | UPF 50+ | Wicks moisture, fits comfortably over swimsuit, abrasion resistant |\n| Men's Plaid Tropic Shirt, Short-Sleeve | Ultracomfortable sun protection shirt with UPF 50+ coverage | 52% polyester, 48% nylon | UPF 50+ | Wrinkle-free, high-performance fabric, front and back cape venting, two front bellows pockets |\n| Tropical Breeze Shirt | Lightweight, breathable long-sleeve shirt with superior SunSmart™ protection | 71% nylon, 29% polyester | UPF 50+ | Wrinkle-resistant, moisture-wicking fabric, relaxed fit, innovative SunSmart technology |\n\nEach of these shirts offers UPF 50+ protection, which means they block 98% of the sun's harmful UV rays. They also have various features such as wrinkle resistance, moisture-wicking fabric, and comfortable fits."
          },
          "metadata": {}
        }
      ]
    },
    {
      "cell_type": "markdown",
      "source": [
        "## **VectorStore:**\n",
        "Vector databases are specialized databases designed to store, index, and query high-dimensional vectors (embeddings).\n",
        "\n",
        "### `DocArrayInMemorySearch`\n",
        "`DocArrayInMemorySearch` is an in-memory solution provided by the DocArray library for storing and retrieving documents based on their vector embeddings.\n",
        "It is designed for fast, real-time search operations by keeping all data in memory.\n",
        "- **Extremely fast read and write operations due to in-memory storage.**\n",
        "- **Limited by the amount of available RAM, making it less suitable for very large datasets.**\n",
        "\n",
        "\n",
        "### VectorDatabases(Chroma)\n",
        "- **Can handle much larger datasets compared to in-memory solutions by utilizing disk storage.**"
      ],
      "metadata": {
        "id": "95D85G__v9Nd"
      }
    },
    {
      "cell_type": "code",
      "source": [
        "from langchain_community.embeddings import HuggingFaceEmbeddings\n",
        "\n",
        "embeddings = HuggingFaceEmbeddings()\n",
        "\n",
        "db = DocArrayInMemorySearch.from_documents(\n",
        "    loader.load(),\n",
        "    embeddings\n",
        ")"
      ],
      "metadata": {
        "colab": {
          "base_uri": "https://localhost:8080/"
        },
        "collapsed": true,
        "id": "pheDYbWjYd85",
        "outputId": "d0ace84c-7057-4bdd-e656-3638e47e346e"
      },
      "execution_count": 8,
      "outputs": [
        {
          "output_type": "stream",
          "name": "stderr",
          "text": [
            "/usr/local/lib/python3.10/dist-packages/huggingface_hub/file_download.py:1132: FutureWarning: `resume_download` is deprecated and will be removed in version 1.0.0. Downloads always resume when possible. If you want to force a new download, use `force_download=True`.\n",
            "  warnings.warn(\n"
          ]
        }
      ]
    },
    {
      "cell_type": "code",
      "source": [
        "query = \"Please suggest a shirt with sunblocking\"\n",
        "\n",
        "docs = db.similarity_search(query)\n",
        "print(len(docs))"
      ],
      "metadata": {
        "colab": {
          "base_uri": "https://localhost:8080/"
        },
        "id": "2ADEqdJ2gNYk",
        "outputId": "bf129e67-332f-4eb7-e6a6-4dd6aed24a57"
      },
      "execution_count": 9,
      "outputs": [
        {
          "output_type": "stream",
          "name": "stdout",
          "text": [
            "4\n"
          ]
        }
      ]
    },
    {
      "cell_type": "code",
      "source": [
        "print(docs[0].page_content)"
      ],
      "metadata": {
        "colab": {
          "base_uri": "https://localhost:8080/"
        },
        "id": "fWhlRfgthf7W",
        "outputId": "235ecf87-d4bb-404e-d3d1-c83bbdcd1603"
      },
      "execution_count": 10,
      "outputs": [
        {
          "output_type": "stream",
          "name": "stdout",
          "text": [
            ": 255\n",
            "name: Sun Shield Shirt by\n",
            "description: \"Block the sun, not the fun – our high-performance sun shirt is guaranteed to protect from harmful UV rays. \n",
            "\n",
            "Size & Fit: Slightly Fitted: Softly shapes the body. Falls at hip.\n",
            "\n",
            "Fabric & Care: 78% nylon, 22% Lycra Xtra Life fiber. UPF 50+ rated – the highest rated sun protection possible. Handwash, line dry.\n",
            "\n",
            "Additional Features: Wicks moisture for quick-drying comfort. Fits comfortably over your favorite swimsuit. Abrasion resistant for season after season of wear. Imported.\n",
            "\n",
            "Sun Protection That Won't Wear Off\n",
            "Our high-performance fabric provides SPF 50+ sun protection, blocking 98% of the sun's harmful rays. This fabric is recommended by The Skin Cancer Foundation as an effective UV protectant.\n"
          ]
        }
      ]
    },
    {
      "cell_type": "markdown",
      "source": [
        "## **QuestionAnswering:**\n",
        "\n",
        "Afrwe retrieving the similar docuemnts from database, we need to feed them to an llm to make a conversation."
      ],
      "metadata": {
        "id": "0uwRPdQnhl1d"
      }
    },
    {
      "cell_type": "code",
      "source": [
        "llm = ChatGroq(\n",
        "    model = \"llama3-70b-8192\",\n",
        "    temperature = 0.2\n",
        ")"
      ],
      "metadata": {
        "id": "xK2W4dT5gXRj"
      },
      "execution_count": 11,
      "outputs": []
    },
    {
      "cell_type": "code",
      "source": [
        "## Concat all the choosen results from the similarity search\n",
        "qdocs = \"\".join([docs[i].page_content for i in range(len(docs))])\n",
        "\n",
        "response = llm.call_as_llm(f\"{qdocs} Question: Please list all your \\\n",
        "shirts with sun protection in a table in markdown and summarize each one.\")\n",
        "\n",
        "display(Markdown(response))"
      ],
      "metadata": {
        "colab": {
          "base_uri": "https://localhost:8080/",
          "height": 485
        },
        "id": "UCh9fJPBgeEN",
        "outputId": "a7efef5c-13fc-4780-810c-1dfb9c233027"
      },
      "execution_count": 12,
      "outputs": [
        {
          "output_type": "stream",
          "name": "stderr",
          "text": [
            "/usr/local/lib/python3.10/dist-packages/langchain_core/_api/deprecation.py:139: LangChainDeprecationWarning: The method `BaseChatModel.call_as_llm` was deprecated in langchain-core 0.1.7 and will be removed in 0.3.0. Use invoke instead.\n",
            "  warn_deprecated(\n"
          ]
        },
        {
          "output_type": "display_data",
          "data": {
            "text/plain": [
              "<IPython.core.display.Markdown object>"
            ],
            "text/markdown": "Here is the list of shirts with sun protection in a table in markdown:\n\n| **Shirt Name** | **Description** | **Fabric** | **Sun Protection** |\n| --- | --- | --- | --- |\n| Sun Shield Shirt | High-performance sun shirt for outdoor activities | 78% nylon, 22% Lycra Xtra Life fiber | UPF 50+, blocks 98% of harmful UV rays |\n| Women's Tropical Tee | Sleeveless button-up shirt with SunSmart™ protection | Shell: 71% nylon, 29% polyester, Cape lining: 100% polyester | UPF 50+, blocks 98% of harmful UV rays |\n| Girls' Beachside Breeze Shirt | Rash guard with built-in UPF 50+ protection for watersports and beach activities | 80% nylon, 20% Lycra Xtra Life | UPF 50+, blocks 98% of harmful UV rays |\n| Sunrise Tee | Lightweight, high-performance shirt for hot weather activities | Shell: 71% nylon, 29% polyester, Cape lining: 100% polyester | UPF 50+, blocks 98% of harmful UV rays |\n\nSummary:\n\n* All four shirts offer high-performance sun protection with UPF 50+ rating, blocking 98% of harmful UV rays.\n* The Sun Shield Shirt and Girls' Beachside Breeze Shirt are designed for outdoor activities and watersports, respectively, with durable and seawater-resistant fabrics.\n* The Women's Tropical Tee and Sunrise Tee are designed for everyday wear, with a focus on comfort, wrinkle-resistance, and quick-drying fabrics.\n* All shirts are made with high-quality fabrics that provide excellent sun protection, making them ideal for outdoor enthusiasts and individuals who spend extended periods in the sun."
          },
          "metadata": {}
        }
      ]
    },
    {
      "cell_type": "markdown",
      "source": [
        "### **UsingChains:**\n",
        "\n",
        "All the mentioned process, can be done by a simple langchain chain:"
      ],
      "metadata": {
        "id": "Iq7h2CT3h5HN"
      }
    },
    {
      "cell_type": "code",
      "source": [
        "from langchain.chains import RetrievalQA\n",
        "\n",
        "qa_stuff = RetrievalQA.from_chain_type(\n",
        "    llm = llm,\n",
        "    chain_type = \"stuff\",\n",
        "    retriever = db.as_retriever(),\n",
        "    verbose = True\n",
        ")\n",
        "\n",
        "query =  \"Please list all your shirts with sun protection in a table \\\n",
        "in markdown and summarize each one.\""
      ],
      "metadata": {
        "id": "1dKYFOD7gise"
      },
      "execution_count": 13,
      "outputs": []
    },
    {
      "cell_type": "code",
      "source": [
        "response = qa_stuff.run(query)"
      ],
      "metadata": {
        "colab": {
          "base_uri": "https://localhost:8080/"
        },
        "id": "xGToL9WmgrDy",
        "outputId": "49168a47-9ded-48e1-ece4-2795a22b96df"
      },
      "execution_count": 14,
      "outputs": [
        {
          "output_type": "stream",
          "name": "stderr",
          "text": [
            "/usr/local/lib/python3.10/dist-packages/langchain_core/_api/deprecation.py:139: LangChainDeprecationWarning: The method `Chain.run` was deprecated in langchain 0.1.0 and will be removed in 0.3.0. Use invoke instead.\n",
            "  warn_deprecated(\n"
          ]
        },
        {
          "output_type": "stream",
          "name": "stdout",
          "text": [
            "\n",
            "\n",
            "\u001b[1m> Entering new RetrievalQA chain...\u001b[0m\n",
            "\n",
            "\u001b[1m> Finished chain.\u001b[0m\n"
          ]
        }
      ]
    },
    {
      "cell_type": "code",
      "source": [
        "display(Markdown(response))"
      ],
      "metadata": {
        "colab": {
          "base_uri": "https://localhost:8080/",
          "height": 413
        },
        "id": "U9DXtZQPiYBS",
        "outputId": "b9fb9b9e-3177-4ba4-80c0-6b8650abe285"
      },
      "execution_count": 15,
      "outputs": [
        {
          "output_type": "display_data",
          "data": {
            "text/plain": [
              "<IPython.core.display.Markdown object>"
            ],
            "text/markdown": "Here is the list of shirts with sun protection in a table in markdown:\n\n| **Shirt Name** | **Description** | **Fabric** | **Sun Protection** |\n| --- | --- | --- | --- |\n| Women's Tropical Tee, Sleeveless | Slightly fitted, sleeveless shirt with SunSmart™ protection | 71% nylon, 29% polyester | UPF 50+, blocks 98% of UV rays |\n| Sunrise Tee | Lightweight, high-performance shirt with built-in sun protection | 71% nylon, 29% polyester | UPF 50+, blocks 98% of UV rays |\n| Sun Shield Shirt | High-performance sun shirt with UPF 50+ protection | 78% nylon, 22% Lycra Xtra Life fiber | UPF 50+, blocks 98% of UV rays |\n| Tropical Breeze Shirt | Lightweight, breathable long-sleeve shirt with SunSmart™ protection | 71% nylon, 29% polyester | UPF 50+, blocks 98% of UV rays |\n\nHere's a brief summary of each shirt:\n\n* **Women's Tropical Tee, Sleeveless**: A sleeveless shirt with a slightly fitted design, offering SunSmart™ protection with UPF 50+ rating.\n* **Sunrise Tee**: A lightweight, high-performance shirt designed for hot weather, with built-in sun protection and a UPF 50+ rating.\n* **Sun Shield Shirt**: A high-performance sun shirt with a UPF 50+ rating, designed to provide superior sun protection.\n* **Tropical Breeze Shirt**: A lightweight, breathable long-sleeve shirt with SunSmart™ protection, offering UPF 50+ coverage and a relaxed fit."
          },
          "metadata": {}
        }
      ]
    }
  ]
}